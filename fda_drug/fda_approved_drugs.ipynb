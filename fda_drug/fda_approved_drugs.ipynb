{
 "cells": [
  {
   "cell_type": "code",
   "execution_count": null,
   "metadata": {},
   "outputs": [],
   "source": [
    "#from pyforest import *\n",
    "import numpy as np\n",
    "import pandas as pd"
   ]
  },
  {
   "cell_type": "code",
   "execution_count": null,
   "metadata": {},
   "outputs": [],
   "source": [
    "import requests\n",
    "from bs4 import BeautifulSoup\n",
    "from selenium import webdriver\n",
    "from selenium.webdriver.firefox.options import Options\n",
    "from selenium.webdriver.support.ui import Select\n",
    "#from selenium.webdriver.firefox.firefox_binary import FirefoxBinary\n",
    "from selenium.webdriver import ChromeOptions, Chrome\n",
    "import re\n",
    "import time\n",
    "from pathlib import Path\n",
    "import os\n",
    "gecko = 'C:/Program Files (x86)/Mozilla Firefox/geckodriver.exe'"
   ]
  },
  {
   "cell_type": "code",
   "execution_count": null,
   "metadata": {},
   "outputs": [],
   "source": [
    "options = Options()\n",
    "profile = webdriver.FirefoxProfile()\n",
    "path=\"C:\\\\Users\\\\Vikram\\\\Documents\\\\ML\\\\git_local\\\\Vikramardham\\\\fda_drugs\\\\data\\\\\"\n",
    "\n",
    "profile.set_preference(\"browser.download.folderList\", 2)\n",
    "profile.set_preference(\"browser.download.manager.showWhenStarting\", False)\n",
    "profile.set_preference(\"browser.download.dir\", path)\n",
    "profile.set_preference(\"browser.helperApps.neverAsk.saveToDisk\", \"text/plain,text/x-csv,text/csv,\\\n",
    "                       application/csv,application/x-csv,\\\n",
    "                       text/csv,text/comma-separated-values,\\\n",
    "                       text/x-comma-separated-values,text/tab-separated-values\")\n",
    "options.headless=True"
   ]
  },
  {
   "cell_type": "code",
   "execution_count": null,
   "metadata": {},
   "outputs": [],
   "source": [
    "%%time\n",
    "URL = \"https://www.accessdata.fda.gov/scripts/cder/daf/index.cfm?event=reportsSearch.process\"\n",
    "\n",
    "driver = webdriver.Firefox(executable_path=gecko, options=options, firefox_profile=profile)\n",
    "driver.get(URL)\n",
    "\n",
    "temp_path = Path(path)/'DrugsFDA FDA-Approved Drugs.csv'\n",
    "if temp_path.is_file():\n",
    "    temp_path.unlink()\n",
    "    \n",
    "for years in np.arange(2020, 2021):\n",
    "    \n",
    "    yr=str(years)\n",
    "    \n",
    "    for mth in ['January', 'February', 'March', 'April','May', 'June', \n",
    "                'July', 'August', 'September', 'October', 'November', 'December']:\n",
    "        \n",
    "        (Path(path)/yr/mth).mkdir(parents=True, exist_ok=True)\n",
    "        if temp_path.is_file():\n",
    "            temp_path.unlink(missing_ok=True)\n",
    "            \n",
    "        month = Select(driver.find_element_by_id('reportSelectMonth'))\n",
    "        year = Select(driver.find_element_by_id('reportSelectYear'))\n",
    "        month.select_by_visible_text(mth)\n",
    "        year.select_by_visible_text(yr)\n",
    "\n",
    "        search=driver.find_element_by_xpath('//*[@title=\"Click to Search\"]').click()\n",
    "\n",
    "        csv=driver.find_element_by_xpath('//*[@class=\"btn btn-default buttons-csv buttons-html5\"]').click()\n",
    "\n",
    "        it=0\n",
    "        while not temp_path.is_file() and it<5:\n",
    "            time.sleep(0.2)\n",
    "            it=it+1\n",
    "\n",
    "        if temp_path.is_file():\n",
    "            temp_path.rename(Path(path)/yr/mth/'fda.csv')\n",
    "\n",
    "driver.quit()"
   ]
  },
  {
   "cell_type": "code",
   "execution_count": null,
   "metadata": {},
   "outputs": [],
   "source": [
    "#handling graceful exit of selenium"
   ]
  },
  {
   "cell_type": "code",
   "execution_count": null,
   "metadata": {},
   "outputs": [],
   "source": [
    "#check if all the files have appropriate dates ... print faulty files\n",
    "for years in np.arange(1900, 2021):\n",
    "    #print(years)\n",
    "    for i, mth in enumerate(['January', 'February', 'March', 'April','May', 'June', \n",
    "                'July', 'August', 'September', 'October', 'November', 'December']):\n",
    "        \n",
    "        temp_path=Path(path)/str(years)/mth/'fda.csv'\n",
    "        if temp_path.stat().st_size==0:\n",
    "            #print(years, mth)\n",
    "            continue\n",
    "        else:\n",
    "            #pass\n",
    "            data = pd.read_csv(temp_path)\n",
    "            if data.shape[0]>0:\n",
    "                chk = pd.to_datetime(data[data.columns[0]])[0]\n",
    "                if (not chk.year==years) and (not chk.month==i+1):\n",
    "                    print(chk.year, chk.month)"
   ]
  },
  {
   "cell_type": "code",
   "execution_count": null,
   "metadata": {},
   "outputs": [],
   "source": []
  },
  {
   "cell_type": "code",
   "execution_count": null,
   "metadata": {},
   "outputs": [],
   "source": [
    "class FdaApp():\n",
    "\n",
    "    '''Class to instantiate and download data'''\n",
    "\n",
    "    def __init__(self, URL):\n",
    "        self.url = URL\n",
    "        self.wait = 0.25\n",
    "        self.months = ['January', 'February', 'March', 'April',\n",
    "                      'May', 'June', 'July', 'August',\n",
    "                      'September', 'October', 'November', 'December']\n",
    "        self.path = Path('/mnt/c/Users/Vikram/Documents/ \\\n",
    "                             ML/git_local/Vikramardham/fda_drugs/')\n",
    "\n",
    "    def dowload_data(self, year, month=None):\n",
    "        \n",
    "        #options = Options()\n",
    "        options = Options()\n",
    "        #options.add_argument('--no-sandbox')\n",
    "        #options.add_argument('-disable-dev-shm-usage')\n",
    "        options.headless=True\n",
    "        \n",
    "        folder = (self.path / 'data' / f'{year}')\n",
    "        folder.mkdir(parents=True, exist_ok=True)\n",
    "        options.add_argument(f'download.default_directory={folder}')\n",
    "        \n",
    "        #options.headless = True\n",
    "        try:\n",
    "            #driver = webdriver.Firefox(options=options)\n",
    "            driver = Chrome(options=options)\n",
    "            print('ABLE to Load browser')\n",
    "        except: \n",
    "            print('FAILED: loading options')\n",
    "            driver.quit()\n",
    "            return\n",
    "        try:\n",
    "            driver.get(self.url)\n",
    "        except:\n",
    "            print('FAILED: getting URL')\n",
    "            driver.quit()\n",
    "            return \n",
    "        \n",
    "        if month: self.months = [month]\n",
    "        \n",
    "        try:\n",
    "            drop_down_month = Select(driver.find_element_by_id(\"reportSelectMonth\"))\n",
    "            drop_down_year = Select(driver.find_element_by_id(\"reportSelectYear\"))\n",
    "        except :\n",
    "            print('FAILED: @ finding drop down')\n",
    "            driver.quit()\n",
    "            return\n",
    "        \n",
    "        for mnt in self.months:\n",
    "            try:\n",
    "                drop_down_month.select_by_visible_text(mnt)\n",
    "                drop_down_year.select_by_visible_text(year)\n",
    "            except:\n",
    "                print('FAILED: @ checking drop down')\n",
    "                driver.quit()\n",
    "                return \n",
    "            try:\n",
    "                search = driver.find_element_by_xpath('//*[@title=\"Click to Search\"]').click()\n",
    "            except:\n",
    "                print('FAILED: @ finding search button')\n",
    "                driver.quit()\n",
    "                return\n",
    "            try:\n",
    "                csv = driver.find_element_by_xpath('//*[@class = \"btn btn-default buttons-csv buttons-html5\"]').click()\n",
    "                print('SUCCESS: {month}, {year}')\n",
    "                driver.quit()\n",
    "            except:\n",
    "                print('FAILED: downloading CSV')\n",
    "                driver.quit()\n",
    "                return\n",
    "        #try: \n",
    "        #    select = Select(driver.find_element_by_id('ResultsPerPageOptions'))\n",
    "        #except:\n",
    "        #    return None\n",
    "        \n",
    "        \n",
    "        return None"
   ]
  },
  {
   "cell_type": "code",
   "execution_count": null,
   "metadata": {},
   "outputs": [],
   "source": [
    "URL = \"https://www.accessdata.fda.gov/scripts/cder/daf/index.cfm?event=reportsSearch.process\"\n",
    "#fda = FdaApp('https://www.accessdata.fda.gov/scripts/cder/daf/index.cfm?event=reportsSearch.process')"
   ]
  },
  {
   "cell_type": "code",
   "execution_count": null,
   "metadata": {},
   "outputs": [],
   "source": [
    "#fda.dowload_data(2020, 'March')"
   ]
  },
  {
   "cell_type": "code",
   "execution_count": null,
   "metadata": {},
   "outputs": [],
   "source": []
  }
 ],
 "metadata": {
  "kernelspec": {
   "display_name": "Python 3",
   "language": "python",
   "name": "python3"
  },
  "language_info": {
   "codemirror_mode": {
    "name": "ipython",
    "version": 3
   },
   "file_extension": ".py",
   "mimetype": "text/x-python",
   "name": "python",
   "nbconvert_exporter": "python",
   "pygments_lexer": "ipython3",
   "version": "3.7.6"
  },
  "widgets": {
   "application/vnd.jupyter.widget-state+json": {
    "state": {},
    "version_major": 2,
    "version_minor": 0
   }
  }
 },
 "nbformat": 4,
 "nbformat_minor": 4
}
