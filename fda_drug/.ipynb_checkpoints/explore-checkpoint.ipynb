{
 "cells": [
  {
   "cell_type": "markdown",
   "metadata": {},
   "source": [
    "----\n",
    "\n",
    "> # <span style=\"color:blue\"> Basic Coding Test Level Data Processing </span>\n",
    "\n",
    "---"
   ]
  },
  {
   "cell_type": "markdown",
   "metadata": {},
   "source": [
    "- In this notebook, I am going to show some basic processing of data I download from fda.gov,\n",
    "\n",
    "- The analysis done is here rather simple, usually asked in coding interviews by several companies recrutiting for Data Scientist positions\n",
    "- The analysis I do here is still more advanced than typically asked in the interviews\n",
    "- This is the first notebook in the series of notebooks I am going to publish here in the processing of building my public Data Science portfolio\n",
    "----"
   ]
  },
  {
   "cell_type": "markdown",
   "metadata": {},
   "source": [
    "> # <span style=\"color:blue\"> Description </span>"
   ]
  },
  {
   "cell_type": "markdown",
   "metadata": {},
   "source": [
    "## The following things are done in this notebooks,\n",
    "1. Scraped data from fda.gov using **Selenium** to obtain the list of approved data in the last 120 years\n",
    "2. Preprocess this data, store into proper folders, check the data integrity and make it ready for further analysis using **Pandas**, **Numpy** and **Scikit-learn**\n",
    "3. Perform analysis based on the information available, especially using the company names and ingredients used in the drugs\n",
    "4. Display advanced graphics in **Plotly**, **seaborn** to display various information\n",
    "5. The analysis is done at a very basic level, more like what is answered in interviews! "
   ]
  },
  {
   "cell_type": "code",
   "execution_count": 1,
   "metadata": {},
   "outputs": [],
   "source": [
    "%load_ext autoreload\n",
    "%autoreload 2\n",
    "import numpy as np\n",
    "import pandas as pd\n",
    "from collections import defaultdict\n",
    "from collections import Counter\n",
    "from itertools import chain\n",
    "from pathlib import Path\n",
    "\n",
    "import plotly.express as px\n",
    "import plotly.graph_objects as go\n",
    "import plotly.express as plx\n",
    "from plotly.subplots import make_subplots\n",
    "from ipywidgets import widgets\n",
    "import networkx as nx\n",
    "from sklearn.manifold import TSNE\n",
    "from sklearn.feature_extraction.text import CountVectorizer\n",
    "\n",
    "path = \"C:\\\\Users\\\\Vikram\\\\Documents\\\\ML\\\\git_local\\\\Vikramardham\\\\fda_drugs\\\\data\\\\\"\n",
    "YEARS = np.arange(1900, 2021)\n",
    "MONTHS = [\n",
    "    'January', 'February', 'March', 'April', 'May', 'June', 'July', 'August',\n",
    "    'September', 'October', 'November', 'December'\n",
    "]"
   ]
  },
  {
   "cell_type": "markdown",
   "metadata": {},
   "source": [
    "----\n",
    "## Let us have a look at one of the test files\n",
    "----"
   ]
  },
  {
   "cell_type": "code",
   "execution_count": 2,
   "metadata": {},
   "outputs": [],
   "source": [
    "file = Path(path)/'2020'/'January'/'fda.csv'\n",
    "data_test = pd.read_csv(file)"
   ]
  },
  {
   "cell_type": "code",
   "execution_count": 3,
   "metadata": {},
   "outputs": [
    {
     "name": "stdout",
     "output_type": "stream",
     "text": [
      "<class 'pandas.core.frame.DataFrame'>\n",
      "RangeIndex: 419 entries, 0 to 418\n",
      "Data columns (total 7 columns):\n",
      " #   Column                       Non-Null Count  Dtype \n",
      "---  ------                       --------------  ----- \n",
      " 0   Approval Date                419 non-null    object\n",
      " 1   Drug Name                    419 non-null    object\n",
      " 2   Submission                   419 non-null    object\n",
      " 3   Active Ingredients           419 non-null    object\n",
      " 4   Company                      419 non-null    object\n",
      " 5   Submission Classification *  341 non-null    object\n",
      " 6   Submission Status            419 non-null    object\n",
      "dtypes: object(7)\n",
      "memory usage: 23.0+ KB\n"
     ]
    }
   ],
   "source": [
    "data_test.info()"
   ]
  },
  {
   "cell_type": "code",
   "execution_count": 4,
   "metadata": {},
   "outputs": [
    {
     "data": {
      "text/html": [
       "<div>\n",
       "<style scoped>\n",
       "    .dataframe tbody tr th:only-of-type {\n",
       "        vertical-align: middle;\n",
       "    }\n",
       "\n",
       "    .dataframe tbody tr th {\n",
       "        vertical-align: top;\n",
       "    }\n",
       "\n",
       "    .dataframe thead th {\n",
       "        text-align: right;\n",
       "    }\n",
       "</style>\n",
       "<table border=\"1\" class=\"dataframe\">\n",
       "  <thead>\n",
       "    <tr style=\"text-align: right;\">\n",
       "      <th></th>\n",
       "      <th>Approval Date</th>\n",
       "      <th>Drug Name</th>\n",
       "      <th>Submission</th>\n",
       "      <th>Active Ingredients</th>\n",
       "      <th>Company</th>\n",
       "      <th>Submission Classification *</th>\n",
       "      <th>Submission Status</th>\n",
       "    </tr>\n",
       "  </thead>\n",
       "  <tbody>\n",
       "    <tr>\n",
       "      <th>count</th>\n",
       "      <td>419</td>\n",
       "      <td>419</td>\n",
       "      <td>419</td>\n",
       "      <td>419</td>\n",
       "      <td>419</td>\n",
       "      <td>341</td>\n",
       "      <td>419</td>\n",
       "    </tr>\n",
       "    <tr>\n",
       "      <th>unique</th>\n",
       "      <td>22</td>\n",
       "      <td>286</td>\n",
       "      <td>61</td>\n",
       "      <td>178</td>\n",
       "      <td>161</td>\n",
       "      <td>10</td>\n",
       "      <td>2</td>\n",
       "    </tr>\n",
       "    <tr>\n",
       "      <th>top</th>\n",
       "      <td>01/21/2020</td>\n",
       "      <td>DIVALPROEX SODIUMANDA  #078597</td>\n",
       "      <td>ORIG-1</td>\n",
       "      <td>DIVALPROEX SODIUM</td>\n",
       "      <td>ZYDUS PHARMS USA INC</td>\n",
       "      <td>Labeling</td>\n",
       "      <td>Approval</td>\n",
       "    </tr>\n",
       "    <tr>\n",
       "      <th>freq</th>\n",
       "      <td>43</td>\n",
       "      <td>9</td>\n",
       "      <td>73</td>\n",
       "      <td>60</td>\n",
       "      <td>19</td>\n",
       "      <td>309</td>\n",
       "      <td>404</td>\n",
       "    </tr>\n",
       "  </tbody>\n",
       "</table>\n",
       "</div>"
      ],
      "text/plain": [
       "       Approval Date                       Drug Name Submission  \\\n",
       "count            419                             419        419   \n",
       "unique            22                             286         61   \n",
       "top       01/21/2020  DIVALPROEX SODIUMANDA  #078597     ORIG-1   \n",
       "freq              43                               9         73   \n",
       "\n",
       "       Active Ingredients               Company Submission Classification *  \\\n",
       "count                 419                   419                         341   \n",
       "unique                178                   161                          10   \n",
       "top     DIVALPROEX SODIUM  ZYDUS PHARMS USA INC                    Labeling   \n",
       "freq                   60                    19                         309   \n",
       "\n",
       "       Submission Status  \n",
       "count                419  \n",
       "unique                 2  \n",
       "top             Approval  \n",
       "freq                 404  "
      ]
     },
     "execution_count": 4,
     "metadata": {},
     "output_type": "execute_result"
    }
   ],
   "source": [
    "data_test.describe()"
   ]
  },
  {
   "cell_type": "markdown",
   "metadata": {},
   "source": [
    "> ### We have a few interesting columns, Approval Date Drug Name, Active Ingredients and Company\n",
    "+ So, we can try to understand how Approval rates have evolved over times\n",
    "+ What are the major players in the business\n",
    "+ What ingredients are the most common\n",
    "+ How have these ingredients evolved over time\n",
    "+ How different companies evolved over time\n",
    "+ How are the major players related to each other?\n",
    "+ How are different ingredients correlated with each other?\n",
    "\n",
    "Below, we try to answer these questions"
   ]
  },
  {
   "cell_type": "markdown",
   "metadata": {},
   "source": [
    "> ### Before we do anything, we check the dowloaded data integrity\n",
    "1. Do we have proper files in the proper folders?\n",
    "2. Are there any files with invalid data?"
   ]
  },
  {
   "cell_type": "code",
   "execution_count": 5,
   "metadata": {},
   "outputs": [],
   "source": [
    "'''Build dictionary with data from 1900-2020 for months\n",
    "Jan-Dec'''\n",
    "drug_data = dict([])\n",
    "for year in YEARS:\n",
    "    monthly = dict([])\n",
    "    for month in MONTHS:\n",
    "        monthly.update({month: pd.read_csv(Path(path)/str(year)/month /\n",
    "                                           'fda.csv')})\n",
    "    drug_data.update({year: monthly})"
   ]
  },
  {
   "cell_type": "code",
   "execution_count": 14,
   "metadata": {},
   "outputs": [
    {
     "data": {
      "text/plain": [
       "Index(['Drug Name', 'Active Ingredients', 'Company'], dtype='object')"
      ]
     },
     "execution_count": 14,
     "metadata": {},
     "output_type": "execute_result"
    }
   ],
   "source": [
    "data_test.columns[[1, 3, 4]]"
   ]
  },
  {
   "cell_type": "code",
   "execution_count": 15,
   "metadata": {},
   "outputs": [],
   "source": [
    "no_data = []\n",
    "invalid_data = []\n",
    "wrong_data = []\n",
    "primary=data_test.columns[[1, 4, 5]] # these are the useful columns \n",
    "for year, val in drug_data.items():\n",
    "    for month, data in val.items():\n",
    "        # check if data is empty\n",
    "        if data.size<1:\n",
    "            no_data.append((year, month))\n",
    "        else:\n",
    "            # check if data has invalid values\n",
    "            if data[primary].isnull().sum().sum() > 0:\n",
    "                invalid_data.append((year, month, data[primary].isnull().sum().sum(), 'null'))\n",
    "            if data[primary].isna().sum().sum() > 0:\n",
    "                invalid_data.append((year, month, data[primary].isna().sum().sum(), 'nan'))\n",
    "            # check if data has the right date on it\n",
    "            date = pd.to_datetime(data[data.columns[0]][0])\n",
    "            if date.year!=year or date.month_name()!=month: \n",
    "                wrong_data.append((year, month))"
   ]
  },
  {
   "cell_type": "code",
   "execution_count": 17,
   "metadata": {},
   "outputs": [],
   "source": [
    "#invalid_data, wrong_data # This is the invalid data"
   ]
  },
  {
   "cell_type": "markdown",
   "metadata": {},
   "source": [
    "> ## Data Analysis\n",
    "\n",
    "- Let us look at how the data availablility has evolved over time, we use plotly to do this\n",
    "- We plot Months without at least one data point (for any company)\n",
    "- We notice that, the data started piling up only after 1938, before that there were barely any approvals\n",
    "- Starting early 60s, we have data every year and every month, so this is when the drug approvals really kept surging\n",
    "- We are still in May 2020, so the data for the rest of the months is missing"
   ]
  },
  {
   "cell_type": "code",
   "execution_count": 19,
   "metadata": {},
   "outputs": [
    {
     "data": {
      "application/vnd.plotly.v1+json": {
       "config": {
        "plotlyServerURL": "https://plot.ly"
       },
       "data": [
        {
         "alignmentgroup": "True",
         "hovertemplate": "x=%{x}<br>Months Available=%{marker.color}<extra></extra>",
         "legendgroup": "",
         "marker": {
          "color": [
           12,
           12,
           12,
           12,
           12,
           12,
           12,
           12,
           12,
           12,
           12,
           12,
           12,
           12,
           12,
           12,
           12,
           12,
           12,
           12,
           12,
           12,
           12,
           12,
           12,
           12,
           12,
           12,
           12,
           12,
           12,
           12,
           12,
           12,
           12,
           12,
           12,
           12,
           12,
           6,
           10,
           8,
           8,
           8,
           8,
           9,
           4,
           3,
           5,
           3,
           2,
           2,
           3,
           1,
           1,
           1,
           1,
           8
          ],
          "coloraxis": "coloraxis"
         },
         "name": "",
         "offsetgroup": "",
         "orientation": "v",
         "showlegend": false,
         "textposition": "auto",
         "type": "bar",
         "x": [
          1900,
          1901,
          1902,
          1903,
          1904,
          1905,
          1906,
          1907,
          1908,
          1909,
          1910,
          1911,
          1912,
          1913,
          1914,
          1915,
          1916,
          1917,
          1918,
          1919,
          1920,
          1921,
          1922,
          1923,
          1924,
          1925,
          1926,
          1927,
          1928,
          1929,
          1930,
          1931,
          1932,
          1933,
          1934,
          1935,
          1936,
          1937,
          1938,
          1939,
          1940,
          1941,
          1942,
          1943,
          1944,
          1945,
          1946,
          1947,
          1948,
          1949,
          1950,
          1951,
          1952,
          1953,
          1954,
          1956,
          1958,
          2020
         ],
         "xaxis": "x",
         "y": [
          12,
          12,
          12,
          12,
          12,
          12,
          12,
          12,
          12,
          12,
          12,
          12,
          12,
          12,
          12,
          12,
          12,
          12,
          12,
          12,
          12,
          12,
          12,
          12,
          12,
          12,
          12,
          12,
          12,
          12,
          12,
          12,
          12,
          12,
          12,
          12,
          12,
          12,
          12,
          6,
          10,
          8,
          8,
          8,
          8,
          9,
          4,
          3,
          5,
          3,
          2,
          2,
          3,
          1,
          1,
          1,
          1,
          8
         ],
         "yaxis": "y"
        }
       ],
       "layout": {
        "barmode": "relative",
        "coloraxis": {
         "colorbar": {
          "title": {
           "text": "Months Available"
          }
         },
         "colorscale": [
          [
           0,
           "#0d0887"
          ],
          [
           0.1111111111111111,
           "#46039f"
          ],
          [
           0.2222222222222222,
           "#7201a8"
          ],
          [
           0.3333333333333333,
           "#9c179e"
          ],
          [
           0.4444444444444444,
           "#bd3786"
          ],
          [
           0.5555555555555556,
           "#d8576b"
          ],
          [
           0.6666666666666666,
           "#ed7953"
          ],
          [
           0.7777777777777778,
           "#fb9f3a"
          ],
          [
           0.8888888888888888,
           "#fdca26"
          ],
          [
           1,
           "#f0f921"
          ]
         ]
        },
        "height": 400,
        "legend": {
         "tracegroupgap": 0
        },
        "margin": {
         "t": 60
        },
        "template": {
         "data": {
          "bar": [
           {
            "error_x": {
             "color": "#2a3f5f"
            },
            "error_y": {
             "color": "#2a3f5f"
            },
            "marker": {
             "line": {
              "color": "#E5ECF6",
              "width": 0.5
             }
            },
            "type": "bar"
           }
          ],
          "barpolar": [
           {
            "marker": {
             "line": {
              "color": "#E5ECF6",
              "width": 0.5
             }
            },
            "type": "barpolar"
           }
          ],
          "carpet": [
           {
            "aaxis": {
             "endlinecolor": "#2a3f5f",
             "gridcolor": "white",
             "linecolor": "white",
             "minorgridcolor": "white",
             "startlinecolor": "#2a3f5f"
            },
            "baxis": {
             "endlinecolor": "#2a3f5f",
             "gridcolor": "white",
             "linecolor": "white",
             "minorgridcolor": "white",
             "startlinecolor": "#2a3f5f"
            },
            "type": "carpet"
           }
          ],
          "choropleth": [
           {
            "colorbar": {
             "outlinewidth": 0,
             "ticks": ""
            },
            "type": "choropleth"
           }
          ],
          "contour": [
           {
            "colorbar": {
             "outlinewidth": 0,
             "ticks": ""
            },
            "colorscale": [
             [
              0,
              "#0d0887"
             ],
             [
              0.1111111111111111,
              "#46039f"
             ],
             [
              0.2222222222222222,
              "#7201a8"
             ],
             [
              0.3333333333333333,
              "#9c179e"
             ],
             [
              0.4444444444444444,
              "#bd3786"
             ],
             [
              0.5555555555555556,
              "#d8576b"
             ],
             [
              0.6666666666666666,
              "#ed7953"
             ],
             [
              0.7777777777777778,
              "#fb9f3a"
             ],
             [
              0.8888888888888888,
              "#fdca26"
             ],
             [
              1,
              "#f0f921"
             ]
            ],
            "type": "contour"
           }
          ],
          "contourcarpet": [
           {
            "colorbar": {
             "outlinewidth": 0,
             "ticks": ""
            },
            "type": "contourcarpet"
           }
          ],
          "heatmap": [
           {
            "colorbar": {
             "outlinewidth": 0,
             "ticks": ""
            },
            "colorscale": [
             [
              0,
              "#0d0887"
             ],
             [
              0.1111111111111111,
              "#46039f"
             ],
             [
              0.2222222222222222,
              "#7201a8"
             ],
             [
              0.3333333333333333,
              "#9c179e"
             ],
             [
              0.4444444444444444,
              "#bd3786"
             ],
             [
              0.5555555555555556,
              "#d8576b"
             ],
             [
              0.6666666666666666,
              "#ed7953"
             ],
             [
              0.7777777777777778,
              "#fb9f3a"
             ],
             [
              0.8888888888888888,
              "#fdca26"
             ],
             [
              1,
              "#f0f921"
             ]
            ],
            "type": "heatmap"
           }
          ],
          "heatmapgl": [
           {
            "colorbar": {
             "outlinewidth": 0,
             "ticks": ""
            },
            "colorscale": [
             [
              0,
              "#0d0887"
             ],
             [
              0.1111111111111111,
              "#46039f"
             ],
             [
              0.2222222222222222,
              "#7201a8"
             ],
             [
              0.3333333333333333,
              "#9c179e"
             ],
             [
              0.4444444444444444,
              "#bd3786"
             ],
             [
              0.5555555555555556,
              "#d8576b"
             ],
             [
              0.6666666666666666,
              "#ed7953"
             ],
             [
              0.7777777777777778,
              "#fb9f3a"
             ],
             [
              0.8888888888888888,
              "#fdca26"
             ],
             [
              1,
              "#f0f921"
             ]
            ],
            "type": "heatmapgl"
           }
          ],
          "histogram": [
           {
            "marker": {
             "colorbar": {
              "outlinewidth": 0,
              "ticks": ""
             }
            },
            "type": "histogram"
           }
          ],
          "histogram2d": [
           {
            "colorbar": {
             "outlinewidth": 0,
             "ticks": ""
            },
            "colorscale": [
             [
              0,
              "#0d0887"
             ],
             [
              0.1111111111111111,
              "#46039f"
             ],
             [
              0.2222222222222222,
              "#7201a8"
             ],
             [
              0.3333333333333333,
              "#9c179e"
             ],
             [
              0.4444444444444444,
              "#bd3786"
             ],
             [
              0.5555555555555556,
              "#d8576b"
             ],
             [
              0.6666666666666666,
              "#ed7953"
             ],
             [
              0.7777777777777778,
              "#fb9f3a"
             ],
             [
              0.8888888888888888,
              "#fdca26"
             ],
             [
              1,
              "#f0f921"
             ]
            ],
            "type": "histogram2d"
           }
          ],
          "histogram2dcontour": [
           {
            "colorbar": {
             "outlinewidth": 0,
             "ticks": ""
            },
            "colorscale": [
             [
              0,
              "#0d0887"
             ],
             [
              0.1111111111111111,
              "#46039f"
             ],
             [
              0.2222222222222222,
              "#7201a8"
             ],
             [
              0.3333333333333333,
              "#9c179e"
             ],
             [
              0.4444444444444444,
              "#bd3786"
             ],
             [
              0.5555555555555556,
              "#d8576b"
             ],
             [
              0.6666666666666666,
              "#ed7953"
             ],
             [
              0.7777777777777778,
              "#fb9f3a"
             ],
             [
              0.8888888888888888,
              "#fdca26"
             ],
             [
              1,
              "#f0f921"
             ]
            ],
            "type": "histogram2dcontour"
           }
          ],
          "mesh3d": [
           {
            "colorbar": {
             "outlinewidth": 0,
             "ticks": ""
            },
            "type": "mesh3d"
           }
          ],
          "parcoords": [
           {
            "line": {
             "colorbar": {
              "outlinewidth": 0,
              "ticks": ""
             }
            },
            "type": "parcoords"
           }
          ],
          "pie": [
           {
            "automargin": true,
            "type": "pie"
           }
          ],
          "scatter": [
           {
            "marker": {
             "colorbar": {
              "outlinewidth": 0,
              "ticks": ""
             }
            },
            "type": "scatter"
           }
          ],
          "scatter3d": [
           {
            "line": {
             "colorbar": {
              "outlinewidth": 0,
              "ticks": ""
             }
            },
            "marker": {
             "colorbar": {
              "outlinewidth": 0,
              "ticks": ""
             }
            },
            "type": "scatter3d"
           }
          ],
          "scattercarpet": [
           {
            "marker": {
             "colorbar": {
              "outlinewidth": 0,
              "ticks": ""
             }
            },
            "type": "scattercarpet"
           }
          ],
          "scattergeo": [
           {
            "marker": {
             "colorbar": {
              "outlinewidth": 0,
              "ticks": ""
             }
            },
            "type": "scattergeo"
           }
          ],
          "scattergl": [
           {
            "marker": {
             "colorbar": {
              "outlinewidth": 0,
              "ticks": ""
             }
            },
            "type": "scattergl"
           }
          ],
          "scattermapbox": [
           {
            "marker": {
             "colorbar": {
              "outlinewidth": 0,
              "ticks": ""
             }
            },
            "type": "scattermapbox"
           }
          ],
          "scatterpolar": [
           {
            "marker": {
             "colorbar": {
              "outlinewidth": 0,
              "ticks": ""
             }
            },
            "type": "scatterpolar"
           }
          ],
          "scatterpolargl": [
           {
            "marker": {
             "colorbar": {
              "outlinewidth": 0,
              "ticks": ""
             }
            },
            "type": "scatterpolargl"
           }
          ],
          "scatterternary": [
           {
            "marker": {
             "colorbar": {
              "outlinewidth": 0,
              "ticks": ""
             }
            },
            "type": "scatterternary"
           }
          ],
          "surface": [
           {
            "colorbar": {
             "outlinewidth": 0,
             "ticks": ""
            },
            "colorscale": [
             [
              0,
              "#0d0887"
             ],
             [
              0.1111111111111111,
              "#46039f"
             ],
             [
              0.2222222222222222,
              "#7201a8"
             ],
             [
              0.3333333333333333,
              "#9c179e"
             ],
             [
              0.4444444444444444,
              "#bd3786"
             ],
             [
              0.5555555555555556,
              "#d8576b"
             ],
             [
              0.6666666666666666,
              "#ed7953"
             ],
             [
              0.7777777777777778,
              "#fb9f3a"
             ],
             [
              0.8888888888888888,
              "#fdca26"
             ],
             [
              1,
              "#f0f921"
             ]
            ],
            "type": "surface"
           }
          ],
          "table": [
           {
            "cells": {
             "fill": {
              "color": "#EBF0F8"
             },
             "line": {
              "color": "white"
             }
            },
            "header": {
             "fill": {
              "color": "#C8D4E3"
             },
             "line": {
              "color": "white"
             }
            },
            "type": "table"
           }
          ]
         },
         "layout": {
          "annotationdefaults": {
           "arrowcolor": "#2a3f5f",
           "arrowhead": 0,
           "arrowwidth": 1
          },
          "coloraxis": {
           "colorbar": {
            "outlinewidth": 0,
            "ticks": ""
           }
          },
          "colorscale": {
           "diverging": [
            [
             0,
             "#8e0152"
            ],
            [
             0.1,
             "#c51b7d"
            ],
            [
             0.2,
             "#de77ae"
            ],
            [
             0.3,
             "#f1b6da"
            ],
            [
             0.4,
             "#fde0ef"
            ],
            [
             0.5,
             "#f7f7f7"
            ],
            [
             0.6,
             "#e6f5d0"
            ],
            [
             0.7,
             "#b8e186"
            ],
            [
             0.8,
             "#7fbc41"
            ],
            [
             0.9,
             "#4d9221"
            ],
            [
             1,
             "#276419"
            ]
           ],
           "sequential": [
            [
             0,
             "#0d0887"
            ],
            [
             0.1111111111111111,
             "#46039f"
            ],
            [
             0.2222222222222222,
             "#7201a8"
            ],
            [
             0.3333333333333333,
             "#9c179e"
            ],
            [
             0.4444444444444444,
             "#bd3786"
            ],
            [
             0.5555555555555556,
             "#d8576b"
            ],
            [
             0.6666666666666666,
             "#ed7953"
            ],
            [
             0.7777777777777778,
             "#fb9f3a"
            ],
            [
             0.8888888888888888,
             "#fdca26"
            ],
            [
             1,
             "#f0f921"
            ]
           ],
           "sequentialminus": [
            [
             0,
             "#0d0887"
            ],
            [
             0.1111111111111111,
             "#46039f"
            ],
            [
             0.2222222222222222,
             "#7201a8"
            ],
            [
             0.3333333333333333,
             "#9c179e"
            ],
            [
             0.4444444444444444,
             "#bd3786"
            ],
            [
             0.5555555555555556,
             "#d8576b"
            ],
            [
             0.6666666666666666,
             "#ed7953"
            ],
            [
             0.7777777777777778,
             "#fb9f3a"
            ],
            [
             0.8888888888888888,
             "#fdca26"
            ],
            [
             1,
             "#f0f921"
            ]
           ]
          },
          "colorway": [
           "#636efa",
           "#EF553B",
           "#00cc96",
           "#ab63fa",
           "#FFA15A",
           "#19d3f3",
           "#FF6692",
           "#B6E880",
           "#FF97FF",
           "#FECB52"
          ],
          "font": {
           "color": "#2a3f5f"
          },
          "geo": {
           "bgcolor": "white",
           "lakecolor": "white",
           "landcolor": "#E5ECF6",
           "showlakes": true,
           "showland": true,
           "subunitcolor": "white"
          },
          "hoverlabel": {
           "align": "left"
          },
          "hovermode": "closest",
          "mapbox": {
           "style": "light"
          },
          "paper_bgcolor": "white",
          "plot_bgcolor": "#E5ECF6",
          "polar": {
           "angularaxis": {
            "gridcolor": "white",
            "linecolor": "white",
            "ticks": ""
           },
           "bgcolor": "#E5ECF6",
           "radialaxis": {
            "gridcolor": "white",
            "linecolor": "white",
            "ticks": ""
           }
          },
          "scene": {
           "xaxis": {
            "backgroundcolor": "#E5ECF6",
            "gridcolor": "white",
            "gridwidth": 2,
            "linecolor": "white",
            "showbackground": true,
            "ticks": "",
            "zerolinecolor": "white"
           },
           "yaxis": {
            "backgroundcolor": "#E5ECF6",
            "gridcolor": "white",
            "gridwidth": 2,
            "linecolor": "white",
            "showbackground": true,
            "ticks": "",
            "zerolinecolor": "white"
           },
           "zaxis": {
            "backgroundcolor": "#E5ECF6",
            "gridcolor": "white",
            "gridwidth": 2,
            "linecolor": "white",
            "showbackground": true,
            "ticks": "",
            "zerolinecolor": "white"
           }
          },
          "shapedefaults": {
           "line": {
            "color": "#2a3f5f"
           }
          },
          "ternary": {
           "aaxis": {
            "gridcolor": "white",
            "linecolor": "white",
            "ticks": ""
           },
           "baxis": {
            "gridcolor": "white",
            "linecolor": "white",
            "ticks": ""
           },
           "bgcolor": "#E5ECF6",
           "caxis": {
            "gridcolor": "white",
            "linecolor": "white",
            "ticks": ""
           }
          },
          "title": {
           "x": 0.05
          },
          "xaxis": {
           "automargin": true,
           "gridcolor": "white",
           "linecolor": "white",
           "ticks": "",
           "title": {
            "standoff": 15
           },
           "zerolinecolor": "white",
           "zerolinewidth": 2
          },
          "yaxis": {
           "automargin": true,
           "gridcolor": "white",
           "linecolor": "white",
           "ticks": "",
           "title": {
            "standoff": 15
           },
           "zerolinecolor": "white",
           "zerolinewidth": 2
          }
         }
        },
        "width": 800,
        "xaxis": {
         "anchor": "y",
         "domain": [
          0,
          1
         ],
         "title": {
          "text": "x"
         }
        },
        "yaxis": {
         "anchor": "x",
         "domain": [
          0,
          1
         ],
         "title": {
          "text": "Months Available"
         }
        }
       }
      }
     },
     "metadata": {},
     "output_type": "display_data"
    }
   ],
   "source": [
    "df = (pd.DataFrame(no_data, columns=['Year', 'Month']).groupby('Year').count())\n",
    "fig = px.bar(df, y='Month', x=df.index,\n",
    "             color='Month',\n",
    "             labels={'Month': 'Months Available'}, height=400, width=800)\n",
    "#go.FigureWidget(data=fig)\n",
    "fig.show()"
   ]
  },
  {
   "cell_type": "markdown",
   "metadata": {},
   "source": [
    "> ## Let us create a dataframe with Years and Months as MultiIndex, this is very convenient for analysis based on time"
   ]
  },
  {
   "cell_type": "code",
   "execution_count": null,
   "metadata": {},
   "outputs": [],
   "source": [
    "drug_df = pd.concat({key: pd.concat({mnts: dat for mnts, dat in vals.items()},\n",
    "                                    names=['Months'])\n",
    "                     for key, vals in drug_data.items()}, names=['Year'])"
   ]
  },
  {
   "cell_type": "markdown",
   "metadata": {},
   "source": [
    "> ## Lets, look at how drug approval has evolved over the last 120 years,\n",
    "- We plot, the total number of drugs approved in every year (left) and in every month (right)\n",
    "- There is big surge in drug approval rate in the 80s, follwed by a big drop in 2003 and a constant raise afterwords and perhaps some slowing down in the recent years\n",
    "- Month-wise data reveals that the data is mostly constant over different months. However, one can argue that there are peaksi n April and August"
   ]
  },
  {
   "cell_type": "code",
   "execution_count": 7,
   "metadata": {},
   "outputs": [
    {
     "ename": "NameError",
     "evalue": "name 'drug_df' is not defined",
     "output_type": "error",
     "traceback": [
      "\u001b[1;31m---------------------------------------------------------------------------\u001b[0m",
      "\u001b[1;31mNameError\u001b[0m                                 Traceback (most recent call last)",
      "\u001b[1;32m<ipython-input-7-38d772c48204>\u001b[0m in \u001b[0;36m<module>\u001b[1;34m\u001b[0m\n\u001b[0;32m      1\u001b[0m \u001b[0mget_ipython\u001b[0m\u001b[1;33m(\u001b[0m\u001b[1;33m)\u001b[0m\u001b[1;33m.\u001b[0m\u001b[0mrun_line_magic\u001b[0m\u001b[1;33m(\u001b[0m\u001b[1;34m'matplotlib'\u001b[0m\u001b[1;33m,\u001b[0m \u001b[1;34m'widget'\u001b[0m\u001b[1;33m)\u001b[0m\u001b[1;33m\u001b[0m\u001b[1;33m\u001b[0m\u001b[0m\n\u001b[0;32m      2\u001b[0m \u001b[0mfig\u001b[0m \u001b[1;33m=\u001b[0m \u001b[0mmake_subplots\u001b[0m\u001b[1;33m(\u001b[0m\u001b[0mrows\u001b[0m\u001b[1;33m=\u001b[0m\u001b[1;36m1\u001b[0m\u001b[1;33m,\u001b[0m \u001b[0mcols\u001b[0m\u001b[1;33m=\u001b[0m\u001b[1;36m2\u001b[0m\u001b[1;33m)\u001b[0m\u001b[1;33m\u001b[0m\u001b[1;33m\u001b[0m\u001b[0m\n\u001b[1;32m----> 3\u001b[1;33m \u001b[0mdf\u001b[0m \u001b[1;33m=\u001b[0m \u001b[0mdrug_df\u001b[0m\u001b[1;33m.\u001b[0m\u001b[0mgroupby\u001b[0m\u001b[1;33m(\u001b[0m\u001b[1;34m'Year'\u001b[0m\u001b[1;33m)\u001b[0m\u001b[1;33m.\u001b[0m\u001b[0mcount\u001b[0m\u001b[1;33m(\u001b[0m\u001b[1;33m)\u001b[0m\u001b[1;33m[\u001b[0m\u001b[1;34m'Submission Status'\u001b[0m\u001b[1;33m]\u001b[0m\u001b[1;33m\u001b[0m\u001b[1;33m\u001b[0m\u001b[0m\n\u001b[0m\u001b[0;32m      4\u001b[0m fig.add_trace(go.Bar(y=df.iloc[-100:],\n\u001b[0;32m      5\u001b[0m                      x=df.index, name='Yearly', width=1),\n",
      "\u001b[1;31mNameError\u001b[0m: name 'drug_df' is not defined"
     ]
    }
   ],
   "source": [
    "%matplotlib widget\n",
    "fig = make_subplots(rows=1, cols=2)\n",
    "df = drug_df.groupby('Year').count()['Submission Status']\n",
    "fig.add_trace(go.Bar(y=df.iloc[-100:],\n",
    "                     x=df.index, name='Yearly', width=1),\n",
    "              row=1, col=1)\n",
    "\n",
    "df = drug_df.groupby('Months').count()['Submission Status']\n",
    "fig.add_trace(go.Bar(y=df[MONTHS],\n",
    "                     x=MONTHS, name='Monthly', width=1),\n",
    "              row=1, col=2)\n",
    "fig.update_layout(width=1000)\n",
    "go.FigureWidget(data=fig)"
   ]
  },
  {
   "cell_type": "markdown",
   "metadata": {},
   "source": [
    "># Let us try to focus on dominant players in the field\n",
    "+ We take a look at the distributions of number of drugs each company has under its sleeve\n",
    "+ Similarly, we take a look at how ingredients are distributed among different drugs\n",
    "\n",
    "+ As expected, a lot of companies manufacture very few drugs (similar for ingredients)\n",
    "+ However, there are a small number of companies that appear to the very right of the distribution, these are the BIG PLAYERS"
   ]
  },
  {
   "cell_type": "code",
   "execution_count": 27,
   "metadata": {},
   "outputs": [],
   "source": [
    "drug_list = drug_df['Active Ingredients'].astype(str).values\n",
    "#ingredients_list = list(chain(*[drug.split(';') for drug in drug_list]))\n",
    "ingredients_list=list([j.strip() for j in list(chain(*[i.split(';') for i in drug_list]))])\n",
    "\n",
    "company_list = drug_df['Company'].astype(str).values\n",
    "\n",
    "company_counts = Counter(company_list)\n",
    "drug_counts = Counter(ingredients_list)"
   ]
  },
  {
   "cell_type": "code",
   "execution_count": 15,
   "metadata": {},
   "outputs": [
    {
     "data": {
      "application/vnd.jupyter.widget-view+json": {
       "model_id": "e3abe310f84345e3bef9cc11e216e299",
       "version_major": 2,
       "version_minor": 0
      },
      "text/plain": [
       "FigureWidget({\n",
       "    'data': [{'name': 'Companies',\n",
       "              'type': 'histogram',\n",
       "              'uid': '3cb…"
      ]
     },
     "metadata": {},
     "output_type": "display_data"
    }
   ],
   "source": [
    "fig = make_subplots(rows=1, cols=2)\n",
    "fig.add_trace(go.Histogram(x=list(company_counts.values()), name='Companies'),\n",
    "              row=1, col=1)\n",
    "fig.add_trace(go.Histogram(x=list(drug_counts.values()), name='Drugs', ),\n",
    "              row=1, col=2)\n",
    "fig.update_yaxes(type=\"log\")\n",
    "go.FigureWidget(data=fig)"
   ]
  },
  {
   "cell_type": "markdown",
   "metadata": {},
   "source": [
    "># Top 20 Ingredients and Companies"
   ]
  },
  {
   "cell_type": "code",
   "execution_count": 29,
   "metadata": {},
   "outputs": [],
   "source": [
    "top_companies = dict((company_counts.most_common(20)))\n",
    "top_drugs = dict((drug_counts.most_common(20)))"
   ]
  },
  {
   "cell_type": "code",
   "execution_count": 53,
   "metadata": {},
   "outputs": [
    {
     "data": {
      "text/html": [
       "<div>\n",
       "<style scoped>\n",
       "    .dataframe tbody tr th:only-of-type {\n",
       "        vertical-align: middle;\n",
       "    }\n",
       "\n",
       "    .dataframe tbody tr th {\n",
       "        vertical-align: top;\n",
       "    }\n",
       "\n",
       "    .dataframe thead th {\n",
       "        text-align: right;\n",
       "    }\n",
       "</style>\n",
       "<table border=\"1\" class=\"dataframe\">\n",
       "  <thead>\n",
       "    <tr style=\"text-align: right;\">\n",
       "      <th></th>\n",
       "      <th>Ingredients</th>\n",
       "      <th>Company Name</th>\n",
       "    </tr>\n",
       "  </thead>\n",
       "  <tbody>\n",
       "    <tr>\n",
       "      <th>0</th>\n",
       "      <td>SODIUM CHLORIDE</td>\n",
       "      <td>BAXTER HLTHCARE</td>\n",
       "    </tr>\n",
       "    <tr>\n",
       "      <th>1</th>\n",
       "      <td>DEXTROSE</td>\n",
       "      <td>HOSPIRA</td>\n",
       "    </tr>\n",
       "    <tr>\n",
       "      <th>2</th>\n",
       "      <td>POTASSIUM CHLORIDE</td>\n",
       "      <td>WATSON LABS</td>\n",
       "    </tr>\n",
       "    <tr>\n",
       "      <th>3</th>\n",
       "      <td>MAGNESIUM CHLORIDE</td>\n",
       "      <td>B BRAUN</td>\n",
       "    </tr>\n",
       "    <tr>\n",
       "      <th>4</th>\n",
       "      <td>CALCIUM CHLORIDE</td>\n",
       "      <td>ICU MEDICAL INC</td>\n",
       "    </tr>\n",
       "    <tr>\n",
       "      <th>5</th>\n",
       "      <td>SODIUM LACTATE</td>\n",
       "      <td>NOVARTIS</td>\n",
       "    </tr>\n",
       "    <tr>\n",
       "      <th>6</th>\n",
       "      <td>ACETAMINOPHEN</td>\n",
       "      <td>TEVA</td>\n",
       "    </tr>\n",
       "    <tr>\n",
       "      <th>7</th>\n",
       "      <td>AMINO ACIDS</td>\n",
       "      <td>SANDOZ</td>\n",
       "    </tr>\n",
       "    <tr>\n",
       "      <th>8</th>\n",
       "      <td>HYDROCHLOROTHIAZIDE</td>\n",
       "      <td>MYLAN</td>\n",
       "    </tr>\n",
       "    <tr>\n",
       "      <th>9</th>\n",
       "      <td>ETHINYL ESTRADIOL</td>\n",
       "      <td>LILLY</td>\n",
       "    </tr>\n",
       "    <tr>\n",
       "      <th>10</th>\n",
       "      <td>IBUPROFEN</td>\n",
       "      <td>JANSSEN PHARMS</td>\n",
       "    </tr>\n",
       "    <tr>\n",
       "      <th>11</th>\n",
       "      <td>NORETHINDRONE</td>\n",
       "      <td>SUN PHARM INDUSTRIES</td>\n",
       "    </tr>\n",
       "    <tr>\n",
       "      <th>12</th>\n",
       "      <td>HEPARIN SODIUM</td>\n",
       "      <td>ALLERGAN</td>\n",
       "    </tr>\n",
       "    <tr>\n",
       "      <th>13</th>\n",
       "      <td>SODIUM ACETATE</td>\n",
       "      <td>SANOFI AVENTIS US</td>\n",
       "    </tr>\n",
       "    <tr>\n",
       "      <th>14</th>\n",
       "      <td>AMITRIPTYLINE HYDROCHLORIDE</td>\n",
       "      <td>GLAXOSMITHKLINE</td>\n",
       "    </tr>\n",
       "    <tr>\n",
       "      <th>15</th>\n",
       "      <td>LIDOCAINE HYDROCHLORIDE</td>\n",
       "      <td>PHARMACIA AND UPJOHN</td>\n",
       "    </tr>\n",
       "    <tr>\n",
       "      <th>16</th>\n",
       "      <td>CODEINE PHOSPHATE</td>\n",
       "      <td>FRESENIUS KABI USA</td>\n",
       "    </tr>\n",
       "    <tr>\n",
       "      <th>17</th>\n",
       "      <td>HYDROCODONE BITARTRATE</td>\n",
       "      <td>ANI PHARMS INC</td>\n",
       "    </tr>\n",
       "    <tr>\n",
       "      <th>18</th>\n",
       "      <td>DIATRIZOATE MEGLUMINE</td>\n",
       "      <td>HIKMA</td>\n",
       "    </tr>\n",
       "    <tr>\n",
       "      <th>19</th>\n",
       "      <td>TRIMETHOPRIM</td>\n",
       "      <td>MERCK</td>\n",
       "    </tr>\n",
       "  </tbody>\n",
       "</table>\n",
       "</div>"
      ],
      "text/plain": [
       "                    Ingredients          Company Name\n",
       "0               SODIUM CHLORIDE       BAXTER HLTHCARE\n",
       "1                      DEXTROSE               HOSPIRA\n",
       "2            POTASSIUM CHLORIDE           WATSON LABS\n",
       "3            MAGNESIUM CHLORIDE               B BRAUN\n",
       "4              CALCIUM CHLORIDE       ICU MEDICAL INC\n",
       "5                SODIUM LACTATE              NOVARTIS\n",
       "6                 ACETAMINOPHEN                  TEVA\n",
       "7                   AMINO ACIDS                SANDOZ\n",
       "8           HYDROCHLOROTHIAZIDE                 MYLAN\n",
       "9             ETHINYL ESTRADIOL                 LILLY\n",
       "10                    IBUPROFEN        JANSSEN PHARMS\n",
       "11                NORETHINDRONE  SUN PHARM INDUSTRIES\n",
       "12               HEPARIN SODIUM              ALLERGAN\n",
       "13               SODIUM ACETATE     SANOFI AVENTIS US\n",
       "14  AMITRIPTYLINE HYDROCHLORIDE       GLAXOSMITHKLINE\n",
       "15      LIDOCAINE HYDROCHLORIDE  PHARMACIA AND UPJOHN\n",
       "16            CODEINE PHOSPHATE    FRESENIUS KABI USA\n",
       "17       HYDROCODONE BITARTRATE        ANI PHARMS INC\n",
       "18        DIATRIZOATE MEGLUMINE                 HIKMA\n",
       "19                 TRIMETHOPRIM                 MERCK"
      ]
     },
     "execution_count": 53,
     "metadata": {},
     "output_type": "execute_result"
    }
   ],
   "source": [
    "pd.DataFrame(list(zip(top_drugs, top_companies)), columns=['Ingredients', 'Company Name'])"
   ]
  },
  {
   "cell_type": "markdown",
   "metadata": {},
   "source": [
    "> ## Let us look at their market share"
   ]
  },
  {
   "cell_type": "code",
   "execution_count": 17,
   "metadata": {},
   "outputs": [
    {
     "data": {
      "application/vnd.jupyter.widget-view+json": {
       "model_id": "cc8de573f3ee409ab09f82933e12af3a",
       "version_major": 2,
       "version_minor": 0
      },
      "text/plain": [
       "FigureWidget({\n",
       "    'data': [{'domain': {'x': [0.0, 1.0], 'y': [0.0, 1.0]},\n",
       "              'hovertemplate': 'Com…"
      ]
     },
     "metadata": {},
     "output_type": "display_data"
    }
   ],
   "source": [
    "df1 = pd.DataFrame(list(zip(company_counts.keys(), company_counts.values())), columns=['Company', '# of Drugs'])\n",
    "df1.loc[~df1['Company'].isin(top_companies.keys()), 'Company'] = 'Others'\n",
    "fig = px.pie(df1, values='# of Drugs', names='Company', title='Market share of Top Companies')\n",
    "go.FigureWidget(data=fig)"
   ]
  },
  {
   "cell_type": "markdown",
   "metadata": {},
   "source": [
    "> ## And share of the top ingredients in all the approved drugs"
   ]
  },
  {
   "cell_type": "code",
   "execution_count": 54,
   "metadata": {},
   "outputs": [
    {
     "data": {
      "application/vnd.jupyter.widget-view+json": {
       "model_id": "dfea84567368405cb10b884d72c7fc75",
       "version_major": 2,
       "version_minor": 0
      },
      "text/plain": [
       "FigureWidget({\n",
       "    'data': [{'domain': {'x': [0.0, 1.0], 'y': [0.0, 1.0]},\n",
       "              'hovertemplate': 'Com…"
      ]
     },
     "metadata": {},
     "output_type": "display_data"
    }
   ],
   "source": [
    "df2 = pd.DataFrame(list(zip(drug_counts.keys(), drug_counts.values())), columns=['Compound', '# of Companies'])\n",
    "df2.loc[~df2['Compound'].isin(top_drugs.keys()), 'Compound'] = 'Others'\n",
    "fig=px.pie(df2, values='# of Companies', names='Compound', title='Company wide share of Top Ingredients')\n",
    "go.FigureWidget(data=fig)"
   ]
  },
  {
   "cell_type": "markdown",
   "metadata": {},
   "source": [
    "> ## Let us now see, how things have changed for different companies\n",
    "1. The interactive plot below shows the number of drugs approved for a given company over time\n",
    "2. One can choose two different companies for a comparison"
   ]
  },
  {
   "cell_type": "code",
   "execution_count": 19,
   "metadata": {},
   "outputs": [
    {
     "data": {
      "application/vnd.jupyter.widget-view+json": {
       "model_id": "382991f216464ed78a2b1f65b5bd4b22",
       "version_major": 2,
       "version_minor": 0
      },
      "text/plain": [
       "VBox(children=(Dropdown(description='Company #0:', index=19, options=('BAXTER HLTHCARE', 'HOSPIRA', 'WATSON LA…"
      ]
     },
     "metadata": {},
     "output_type": "display_data"
    }
   ],
   "source": [
    "#widgets with variation over time\n",
    "company1 = widgets.Dropdown(options=list(top_companies.keys()),\n",
    "    value='MERCK', description='Company #0:',)\n",
    "company2 = widgets.Dropdown(options=list(top_companies.keys()),\n",
    "    value='NOVARTIS', description='Company #1:',)\n",
    "\n",
    "\n",
    "# Assign an empty figure widget with two traces\n",
    "trace1 = go.Scatter(y=drug_df[drug_df['Company'] == 'MERCK'].groupby('Year')['Submission']\n",
    "                    .count(), x=drug_df[drug_df['Company'] == 'MERCK'].groupby('Year')['Submission']\n",
    "                    .count().index, opacity=0.75,mode='lines+markers')\n",
    "                    #marker_color='rgba(255.,150.,0.,0.8)', line_color='rgba(255., 150,0., 0.8)')\n",
    "\n",
    "trace2 = go.Scatter(y=drug_df[drug_df['Company'] == 'NOVARTIS'].groupby('Year')['Submission']\n",
    "                    .count(), x=drug_df[drug_df['Company'] == 'NOVARTIS'].groupby('Year')['Submission']\n",
    "                    .count().index, opacity=0.75,mode='lines+markers')\n",
    "                    #marker_color='rgba(150.,150.,255.,255)', line_color='rgba(255., 150,255., 255)')\n",
    "\n",
    "g = go.FigureWidget(data=[trace1, trace2], layout=go.Layout(\n",
    "                        title=dict(text='Evolution over the last century'),))\n",
    "g.update_layout(xaxis_title='Year', yaxis_title='Number of Drugs Approved')\n",
    "\n",
    "def response(change):\n",
    "    filtered1 = drug_df[drug_df['Company']==company1.value].groupby('Year')['Submission'].count()\n",
    "    filtered2 = drug_df[drug_df['Company']==company2.value].groupby('Year')['Submission'].count()\n",
    "    with g.batch_update():\n",
    "        g.data[0].y = filtered1\n",
    "        g.data[0].x = filtered1.index\n",
    "\n",
    "        g.data[1].y = filtered2\n",
    "        g.data[1].x = filtered2.index\n",
    "\n",
    "company1.observe(response, names=\"value\")\n",
    "company2.observe(response)\n",
    "#container2 = widgets.HBox([trace1, trace2])\n",
    "widgets.VBox([company1, company2, g])"
   ]
  },
  {
   "cell_type": "markdown",
   "metadata": {},
   "source": [
    "> ## Let us now see, how things have changed for different compounds\n",
    "1. The interactive plot below shows the number of drugs approved with a given ingredient\n",
    "2. One can choose two different compounds/ingredients for a comparison"
   ]
  },
  {
   "cell_type": "code",
   "execution_count": 35,
   "metadata": {},
   "outputs": [
    {
     "data": {
      "application/vnd.jupyter.widget-view+json": {
       "model_id": "242cb2f321b94878984d895b9c10299d",
       "version_major": 2,
       "version_minor": 0
      },
      "text/plain": [
       "VBox(children=(Dropdown(description='Compd. #0:', options=('SODIUM CHLORIDE', 'DEXTROSE', 'POTASSIUM CHLORIDE'…"
      ]
     },
     "metadata": {},
     "output_type": "display_data"
    }
   ],
   "source": [
    "#widgets with variation over time\n",
    "drug1 = widgets.Dropdown(options=list(top_drugs.keys()),\n",
    "    value='SODIUM CHLORIDE', description='Compd. #0:',)\n",
    "drug2 = widgets.Dropdown(options=list(top_drugs.keys()),\n",
    "    value='DEXTROSE', description='Compd. #1:',)\n",
    "\n",
    "\n",
    "# Assign an empty figure widget with two traces\n",
    "trace1 = go.Scatter(y=drug_df[drug_df['Active Ingredients'].str.contains('SODIUM CHLORIDE').fillna(False)].groupby('Year')['Approval Date'].count(), \n",
    "                    x=drug_df[drug_df['Active Ingredients'].str.contains('SODIUM CHLORIDE').fillna(False)].groupby('Year')['Approval Date'].count().index,\n",
    "                    opacity=0.75,mode='lines+markers')\n",
    "                    #marker_color='rgba(255.,150.,0.,0.8)', line_color='rgba(255., 150,0., 0.8)')\n",
    "\n",
    "trace2 = go.Scatter(y=drug_df[drug_df['Active Ingredients'].str.contains('DEXTROSE').fillna(False)].groupby('Year')['Approval Date'].count(), \n",
    "                    x=drug_df[drug_df['Active Ingredients'].str.contains('DEXTROSE').fillna(False)].groupby('Year')['Approval Date'].count().index, \n",
    "                    opacity=0.75,mode='lines+markers')\n",
    "                    #marker_color='rgba(150.,150.,255.,255)', line_color='rgba(255., 150,255., 255)')\n",
    "\n",
    "g1 = go.FigureWidget(data=[trace1, trace2], layout=go.Layout(\n",
    "                        title=dict(text='Evolution over the last century'),))\n",
    "g1.update_layout(xaxis_title='Year', yaxis_title='Found in # of Drugs')\n",
    "\n",
    "def response(change):\n",
    "    filtered1 = drug_df[drug_df['Drug Name'].str.contains(drug1.value).fillna(False)].groupby('Year')['Approval Date'].count()\n",
    "    filtered2 = drug_df[drug_df['Drug Name'].str.contains(drug2.value).fillna(False)].groupby('Year')['Approval Date'].count()\n",
    "    with g.batch_update():\n",
    "        g1.data[0].y = filtered1\n",
    "        g1.data[0].x = filtered1.index\n",
    "\n",
    "        g1.data[1].y = filtered2\n",
    "        g1.data[1].x = filtered2.index\n",
    "\n",
    "drug1.observe(response, names=\"value\")\n",
    "drug2.observe(response)\n",
    "#container2 = widgets.HBox([trace1, trace2])\n",
    "widgets.VBox([drug1, drug2, g1])"
   ]
  },
  {
   "cell_type": "markdown",
   "metadata": {},
   "source": [
    "># Let us look at bit more advanced stuff"
   ]
  },
  {
   "cell_type": "markdown",
   "metadata": {},
   "source": [
    "> ## Advanced\n",
    "+ I want to look at how the ingredient evolutions are correlated with each other  \n",
    "and   \n",
    "+ How can be cluster them based on this simple dataset?"
   ]
  },
  {
   "cell_type": "code",
   "execution_count": 36,
   "metadata": {},
   "outputs": [],
   "source": [
    "# Correlation matrix of different companies and drugs\n",
    "drug_coeff=[]\n",
    "for drug in top_drugs:\n",
    "    drug_coeff.append(drug_df[drug_df['Active Ingredients'].str.contains(drug).fillna(False)]\n",
    "                      .groupby('Year')['Approval Date'].\n",
    "                      count().reindex(drug_df.index.levels[0]).replace(np.nan, 0.).values)"
   ]
  },
  {
   "cell_type": "code",
   "execution_count": 80,
   "metadata": {},
   "outputs": [
    {
     "data": {
      "application/vnd.jupyter.widget-view+json": {
       "model_id": "ccd8e8f514914ad1a6dd14c14cf963d8",
       "version_major": 2,
       "version_minor": 0
      },
      "text/plain": [
       "Canvas(toolbar=Toolbar(toolitems=[('Home', 'Reset original view', 'home', 'home'), ('Back', 'Back to previous …"
      ]
     },
     "metadata": {},
     "output_type": "display_data"
    },
    {
     "data": {
      "application/javascript": [
       "\n",
       "        if (window._pyforest_update_imports_cell) { window._pyforest_update_imports_cell('import matplotlib.pyplot as plt'); }\n",
       "    "
      ],
      "text/plain": [
       "<IPython.core.display.Javascript object>"
      ]
     },
     "metadata": {},
     "output_type": "display_data"
    },
    {
     "data": {
      "application/javascript": [
       "\n",
       "        if (window._pyforest_update_imports_cell) { window._pyforest_update_imports_cell('import matplotlib.pyplot as plt'); }\n",
       "    "
      ],
      "text/plain": [
       "<IPython.core.display.Javascript object>"
      ]
     },
     "metadata": {},
     "output_type": "display_data"
    },
    {
     "name": "stdout",
     "output_type": "stream",
     "text": [
      "[(0, 'SODIUM CHLORIDE'), (1, 'DEXTROSE'), (2, 'POTASSIUM CHLORIDE'), (3, 'MAGNESIUM CHLORIDE'), (4, 'CALCIUM CHLORIDE'), (5, 'SODIUM LACTATE'), (6, 'ACETAMINOPHEN'), (7, 'AMINO ACIDS'), (8, 'HYDROCHLOROTHIAZIDE'), (9, 'ETHINYL ESTRADIOL'), (10, 'IBUPROFEN'), (11, 'NORETHINDRONE'), (12, 'HEPARIN SODIUM'), (13, 'SODIUM ACETATE'), (14, 'AMITRIPTYLINE HYDROCHLORIDE'), (15, 'LIDOCAINE HYDROCHLORIDE'), (16, 'CODEINE PHOSPHATE'), (17, 'HYDROCODONE BITARTRATE'), (18, 'DIATRIZOATE MEGLUMINE'), (19, 'TRIMETHOPRIM')]\n"
     ]
    }
   ],
   "source": [
    "# we use the cluster map in seaborn to automatically do the clustering for us \n",
    "# we just have to input the correlation matrix\n",
    "clus = sns.clustermap(np.corrcoef(drug_coeff),figsize=(6,6) )\n",
    "lb=plt.setp(clus.ax_heatmap.get_yticklabels(), rotation=0)  \n",
    "lb=plt.setp(clus.ax_heatmap.get_xticklabels(), rotation=90)\n",
    "print(list(zip(np.arange(len(top_drugs.keys())), top_drugs.keys())))"
   ]
  },
  {
   "cell_type": "markdown",
   "metadata": {},
   "source": [
    ">## Clustering the drug companies\n",
    "1. To cluster among the drug companies, we look at the ingredients they have in common\n",
    "2. Drugs manufacturing the same drugs are close to each other in the ingredient space and vice-versa\n",
    "3. To define the 'distance', we define company vectors, just like word frequency vectors\n",
    "4. Then, we have each company represented by a vector in the space of ingredients\n",
    "5. We still, can't visually represent them, so we project them on to 2D plane using the popular t-SNE algorithm"
   ]
  },
  {
   "cell_type": "code",
   "execution_count": 68,
   "metadata": {},
   "outputs": [],
   "source": [
    "vectorizer=CountVectorizer()\n",
    "\n",
    "top_companies = dict((company_counts.most_common(200)))\n",
    "company_df=drug_df[drug_df['Company'].isin(top_companies.keys())]\n",
    "\n",
    "word_vectors = vectorizer.fit_transform((company_df[['Company','Active Ingredients']].astype(str).groupby('Company').agg(' '.join))['Active Ingredients'].to_list())\n",
    "\n",
    "tsne=TSNE(perplexity=50)\n",
    "embedded1 = tsne.fit_transform(word_vectors)\n",
    "tsne=TSNE(perplexity=500)\n",
    "embedded2 = tsne.fit_transform(word_vectors)"
   ]
  },
  {
   "cell_type": "code",
   "execution_count": 72,
   "metadata": {},
   "outputs": [
    {
     "data": {
      "application/vnd.jupyter.widget-view+json": {
       "model_id": "e8d9aa9a3bb94859949bfadb6c9608be",
       "version_major": 2,
       "version_minor": 0
      },
      "text/plain": [
       "FigureWidget({\n",
       "    'data': [{'mode': 'markers',\n",
       "              'name': 'Low Perplexity',\n",
       "              'text': …"
      ]
     },
     "metadata": {},
     "output_type": "display_data"
    }
   ],
   "source": [
    "#%matplotlib inline\n",
    "#plt.plot(embedded[:, 0], embedded[:, 1],'go', alpha = 0.8)\n",
    "#plt.show()\n",
    "fig = make_subplots(rows=1, cols=2,x_title='TSNE_1',y_title='TSNE_2')\n",
    "fig.add_trace(go.Scatter(x=embedded1[:,0],y=embedded1[:,1], name='Low Perplexity', mode='markers', \n",
    "                         text=list(top_companies.keys())),\n",
    "              row=1, col=1)\n",
    "fig.add_trace(go.Scatter(x=embedded2[:,0],y=embedded2[:,1], name='High Perplexity', mode='markers',\n",
    "              text=list(top_companies.keys())),\n",
    "              row=1, col=2)\n",
    "\n",
    "go.FigureWidget(data=fig)"
   ]
  },
  {
   "cell_type": "markdown",
   "metadata": {},
   "source": [
    "___\n",
    "* In the above plots, we can see the topology of the companies in the ingredient space\n",
    "* We do this at two different perplexities for a better understanding of the topology\n",
    "    + These two figures suggest that, the topology is perhaps a ring in higher dimensions, with some variance in the direction perpendicular to the plane of the ring\n",
    "* On hover, we can see which comanies are close to each other and which are not!\n",
    "* Finally, it is interesting to see that, all the companies lie on ring forming a closed loop   \n",
    "(with some outliers, Dr. Reddy's, Novartis and Heritage Pharma)\n",
    "----"
   ]
  },
  {
   "cell_type": "code",
   "execution_count": 73,
   "metadata": {},
   "outputs": [],
   "source": [
    "# Conclusions"
   ]
  },
  {
   "cell_type": "code",
   "execution_count": 74,
   "metadata": {},
   "outputs": [],
   "source": [
    "# Graphs?\n",
    "# New info? diseases? side-effects?\n",
    "# prices of drugs?\n",
    "\n",
    "# relationships?\n",
    "# companies with common drugs or the reverse --- can make clusters \n",
    "# companies that make a lot of drugs\n",
    "\n",
    "# comparitive study with a different drug database -- from different country"
   ]
  },
  {
   "cell_type": "code",
   "execution_count": null,
   "metadata": {},
   "outputs": [],
   "source": []
  }
 ],
 "metadata": {
  "hide_input": false,
  "kernelspec": {
   "display_name": "Python 3.6.5 64-bit ('Vikram': virtualenv)",
   "language": "python",
   "name": "python36564bitvikramvirtualenvfd15cae2283a4084b2b1cde496d16062"
  },
  "language_info": {
   "codemirror_mode": {
    "name": "ipython",
    "version": 3
   },
   "file_extension": ".py",
   "mimetype": "text/x-python",
   "name": "python",
   "nbconvert_exporter": "python",
   "pygments_lexer": "ipython3",
   "version": "3.7.6"
  },
  "toc": {
   "base_numbering": 1,
   "nav_menu": {},
   "number_sections": true,
   "sideBar": true,
   "skip_h1_title": false,
   "title_cell": "Table of Contents",
   "title_sidebar": "Contents",
   "toc_cell": false,
   "toc_position": {
    "height": "calc(100% - 180px)",
    "left": "10px",
    "top": "150px",
    "width": "349.091px"
   },
   "toc_section_display": true,
   "toc_window_display": true
  },
  "varInspector": {
   "cols": {
    "lenName": 16,
    "lenType": 16,
    "lenVar": 40
   },
   "kernels_config": {
    "python": {
     "delete_cmd_postfix": "",
     "delete_cmd_prefix": "del ",
     "library": "var_list.py",
     "varRefreshCmd": "print(var_dic_list())"
    },
    "r": {
     "delete_cmd_postfix": ") ",
     "delete_cmd_prefix": "rm(",
     "library": "var_list.r",
     "varRefreshCmd": "cat(var_dic_list()) "
    }
   },
   "types_to_exclude": [
    "module",
    "function",
    "builtin_function_or_method",
    "instance",
    "_Feature"
   ],
   "window_display": false
  }
 },
 "nbformat": 4,
 "nbformat_minor": 4
}
