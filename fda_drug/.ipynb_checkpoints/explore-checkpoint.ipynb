{
 "cells": [
  {
   "cell_type": "markdown",
   "metadata": {},
   "source": [
    "----\n",
    "\n",
    "> # <span style=\"color:blue\"> Basic Coding Test Level Data Processing </span>\n",
    "\n",
    "---"
   ]
  },
  {
   "cell_type": "markdown",
   "metadata": {},
   "source": [
    "- In this notebook, I am going to show some basic processing of data I download from fda.gov,\n",
    "\n",
    "- The analysis done is here rather simple, usually asked in coding interviews by several companies recrutiting for Data Scientist positions\n",
    "- The analysis I do here is still more advanced than typically asked in the interviews\n",
    "- This is the first notebook in the series of notebooks I am going to publish here in the processing of building my public Data Science portfolio\n",
    "----"
   ]
  },
  {
   "cell_type": "markdown",
   "metadata": {},
   "source": [
    "> # <span style=\"color:blue\"> Description </span>"
   ]
  },
  {
   "cell_type": "markdown",
   "metadata": {},
   "source": [
    "## The following things are done in this notebooks,\n",
    "1. Scraped data from fda.gov using **Selenium** to obtain the list of approved data in the last 120 years\n",
    "2. Preprocess this data, store into proper folders, check the data integrity and make it ready for further analysis using **Pandas**, **Numpy** and **Scikit-learn**\n",
    "3. Perform analysis based on the information available, especially using the company names and ingredients used in the drugs\n",
    "4. Display advanced graphics in **Plotly**, **seaborn** to display various information\n",
    "5. The analysis is done at a very basic level, more like what is answered in interviews! "
   ]
  },
  {
   "cell_type": "code",
   "execution_count": 1,
   "metadata": {},
   "outputs": [],
   "source": [
    "%load_ext autoreload\n",
    "%autoreload 2\n",
    "import numpy as np\n",
    "import pandas as pd\n",
    "from collections import defaultdict\n",
    "from collections import Counter\n",
    "from itertools import chain\n",
    "from pathlib import Path\n",
    "\n",
    "import plotly.express as px\n",
    "import plotly.graph_objects as go\n",
    "import plotly.express as plx\n",
    "from plotly.subplots import make_subplots\n",
    "from ipywidgets import widgets\n",
    "import networkx as nx\n",
    "from sklearn.manifold import TSNE\n",
    "from sklearn.feature_extraction.text import CountVectorizer\n",
    "import plotly.io as pio\n",
    "#pio.renderers.default = \"browser\"\n",
    "path = \"C:\\\\Users\\\\Vikram\\\\Documents\\\\ML\\\\git_local\\\\Vikramardham\\\\fda_drugs\\\\data\\\\\"\n",
    "YEARS = np.arange(1900, 2021)\n",
    "MONTHS = [\n",
    "    'January', 'February', 'March', 'April', 'May', 'June', 'July', 'August',\n",
    "    'September', 'October', 'November', 'December'\n",
    "]"
   ]
  },
  {
   "cell_type": "markdown",
   "metadata": {},
   "source": [
    "----\n",
    "## Let us have a look at one of the test files\n",
    "----"
   ]
  },
  {
   "cell_type": "code",
   "execution_count": 2,
   "metadata": {},
   "outputs": [],
   "source": [
    "file = Path(path)/'2020'/'January'/'fda.csv'\n",
    "data_test = pd.read_csv(file)"
   ]
  },
  {
   "cell_type": "code",
   "execution_count": 3,
   "metadata": {},
   "outputs": [
    {
     "name": "stdout",
     "output_type": "stream",
     "text": [
      "<class 'pandas.core.frame.DataFrame'>\n",
      "RangeIndex: 419 entries, 0 to 418\n",
      "Data columns (total 7 columns):\n",
      " #   Column                       Non-Null Count  Dtype \n",
      "---  ------                       --------------  ----- \n",
      " 0   Approval Date                419 non-null    object\n",
      " 1   Drug Name                    419 non-null    object\n",
      " 2   Submission                   419 non-null    object\n",
      " 3   Active Ingredients           419 non-null    object\n",
      " 4   Company                      419 non-null    object\n",
      " 5   Submission Classification *  341 non-null    object\n",
      " 6   Submission Status            419 non-null    object\n",
      "dtypes: object(7)\n",
      "memory usage: 23.0+ KB\n"
     ]
    }
   ],
   "source": [
    "data_test.info()"
   ]
  },
  {
   "cell_type": "code",
   "execution_count": 4,
   "metadata": {},
   "outputs": [
    {
     "data": {
      "text/html": [
       "<div>\n",
       "<style scoped>\n",
       "    .dataframe tbody tr th:only-of-type {\n",
       "        vertical-align: middle;\n",
       "    }\n",
       "\n",
       "    .dataframe tbody tr th {\n",
       "        vertical-align: top;\n",
       "    }\n",
       "\n",
       "    .dataframe thead th {\n",
       "        text-align: right;\n",
       "    }\n",
       "</style>\n",
       "<table border=\"1\" class=\"dataframe\">\n",
       "  <thead>\n",
       "    <tr style=\"text-align: right;\">\n",
       "      <th></th>\n",
       "      <th>Approval Date</th>\n",
       "      <th>Drug Name</th>\n",
       "      <th>Submission</th>\n",
       "      <th>Active Ingredients</th>\n",
       "      <th>Company</th>\n",
       "      <th>Submission Classification *</th>\n",
       "      <th>Submission Status</th>\n",
       "    </tr>\n",
       "  </thead>\n",
       "  <tbody>\n",
       "    <tr>\n",
       "      <th>count</th>\n",
       "      <td>419</td>\n",
       "      <td>419</td>\n",
       "      <td>419</td>\n",
       "      <td>419</td>\n",
       "      <td>419</td>\n",
       "      <td>341</td>\n",
       "      <td>419</td>\n",
       "    </tr>\n",
       "    <tr>\n",
       "      <th>unique</th>\n",
       "      <td>22</td>\n",
       "      <td>286</td>\n",
       "      <td>61</td>\n",
       "      <td>178</td>\n",
       "      <td>161</td>\n",
       "      <td>10</td>\n",
       "      <td>2</td>\n",
       "    </tr>\n",
       "    <tr>\n",
       "      <th>top</th>\n",
       "      <td>01/21/2020</td>\n",
       "      <td>DIVALPROEX SODIUMANDA  #078597</td>\n",
       "      <td>ORIG-1</td>\n",
       "      <td>DIVALPROEX SODIUM</td>\n",
       "      <td>ZYDUS PHARMS USA INC</td>\n",
       "      <td>Labeling</td>\n",
       "      <td>Approval</td>\n",
       "    </tr>\n",
       "    <tr>\n",
       "      <th>freq</th>\n",
       "      <td>43</td>\n",
       "      <td>9</td>\n",
       "      <td>73</td>\n",
       "      <td>60</td>\n",
       "      <td>19</td>\n",
       "      <td>309</td>\n",
       "      <td>404</td>\n",
       "    </tr>\n",
       "  </tbody>\n",
       "</table>\n",
       "</div>"
      ],
      "text/plain": [
       "       Approval Date                       Drug Name Submission  \\\n",
       "count            419                             419        419   \n",
       "unique            22                             286         61   \n",
       "top       01/21/2020  DIVALPROEX SODIUMANDA  #078597     ORIG-1   \n",
       "freq              43                               9         73   \n",
       "\n",
       "       Active Ingredients               Company Submission Classification *  \\\n",
       "count                 419                   419                         341   \n",
       "unique                178                   161                          10   \n",
       "top     DIVALPROEX SODIUM  ZYDUS PHARMS USA INC                    Labeling   \n",
       "freq                   60                    19                         309   \n",
       "\n",
       "       Submission Status  \n",
       "count                419  \n",
       "unique                 2  \n",
       "top             Approval  \n",
       "freq                 404  "
      ]
     },
     "execution_count": 4,
     "metadata": {},
     "output_type": "execute_result"
    }
   ],
   "source": [
    "data_test.describe()"
   ]
  },
  {
   "cell_type": "markdown",
   "metadata": {},
   "source": [
    "> ### We have a few interesting columns, Approval Date Drug Name, Active Ingredients and Company\n",
    "+ So, we can try to understand how Approval rates have evolved over times\n",
    "+ What are the major players in the business\n",
    "+ What ingredients are the most common\n",
    "+ How have these ingredients evolved over time\n",
    "+ How different companies evolved over time\n",
    "+ How are the major players related to each other?\n",
    "+ How are different ingredients correlated with each other?\n",
    "\n",
    "Below, we try to answer these questions"
   ]
  },
  {
   "cell_type": "markdown",
   "metadata": {},
   "source": [
    "> ### Before we do anything, we check the dowloaded data integrity\n",
    "1. Do we have proper files in the proper folders?\n",
    "2. Are there any files with invalid data?"
   ]
  },
  {
   "cell_type": "code",
   "execution_count": 5,
   "metadata": {},
   "outputs": [],
   "source": [
    "'''Build dictionary with data from 1900-2020 for months\n",
    "Jan-Dec'''\n",
    "drug_data = dict([])\n",
    "for year in YEARS:\n",
    "    monthly = dict([])\n",
    "    for month in MONTHS:\n",
    "        monthly.update({month: pd.read_csv(Path(path)/str(year)/month /\n",
    "                                           'fda.csv')})\n",
    "    drug_data.update({year: monthly})"
   ]
  },
  {
   "cell_type": "code",
   "execution_count": 6,
   "metadata": {},
   "outputs": [
    {
     "data": {
      "text/plain": [
       "Index(['Drug Name', 'Active Ingredients', 'Company'], dtype='object')"
      ]
     },
     "execution_count": 6,
     "metadata": {},
     "output_type": "execute_result"
    }
   ],
   "source": [
    "data_test.columns[[1, 3, 4]]"
   ]
  },
  {
   "cell_type": "code",
   "execution_count": 7,
   "metadata": {},
   "outputs": [],
   "source": [
    "no_data = []\n",
    "invalid_data = []\n",
    "wrong_data = []\n",
    "primary=data_test.columns[[1, 4, 5]] # these are the useful columns \n",
    "for year, val in drug_data.items():\n",
    "    for month, data in val.items():\n",
    "        # check if data is empty\n",
    "        if data.size<1:\n",
    "            no_data.append((year, month))\n",
    "        else:\n",
    "            # check if data has invalid values\n",
    "            if data[primary].isnull().sum().sum() > 0:\n",
    "                invalid_data.append((year, month, data[primary].isnull().sum().sum(), 'null'))\n",
    "            if data[primary].isna().sum().sum() > 0:\n",
    "                invalid_data.append((year, month, data[primary].isna().sum().sum(), 'nan'))\n",
    "            # check if data has the right date on it\n",
    "            date = pd.to_datetime(data[data.columns[0]][0])\n",
    "            if date.year!=year or date.month_name()!=month: \n",
    "                wrong_data.append((year, month))"
   ]
  },
  {
   "cell_type": "code",
   "execution_count": 8,
   "metadata": {},
   "outputs": [],
   "source": [
    "#invalid_data, wrong_data # This is the invalid data"
   ]
  },
  {
   "cell_type": "markdown",
   "metadata": {},
   "source": [
    "> ## Data Analysis\n",
    "\n",
    "- Let us look at how the data availablility has evolved over time, we use plotly to do this\n",
    "- We plot Months without at least one data point (for any company)\n",
    "- We notice that, the data started piling up only after 1938, before that there were barely any approvals\n",
    "- Starting early 60s, we have data every year and every month, so this is when the drug approvals really kept surging\n",
    "- We are still in May 2020, so the data for the rest of the months is missing"
   ]
  },
  {
   "cell_type": "code",
   "execution_count": 9,
   "metadata": {},
   "outputs": [
    {
     "data": {
      "image/svg+xml": [
       "<svg class=\"main-svg\" xmlns=\"http://www.w3.org/2000/svg\" xmlns:xlink=\"http://www.w3.org/1999/xlink\" width=\"700\" height=\"450\" style=\"\" viewBox=\"0 0 700 450\"><rect x=\"0\" y=\"0\" width=\"700\" height=\"450\" style=\"fill: rgb(255, 255, 255); fill-opacity: 1;\"/><defs id=\"defs-a7f8a2\"><g class=\"clips\"><clipPath id=\"clipa7f8a2xyplot\" class=\"plotclip\"><rect width=\"477\" height=\"310\"/></clipPath><clipPath class=\"axesclip\" id=\"clipa7f8a2x\"><rect x=\"80\" y=\"0\" width=\"477\" height=\"450\"/></clipPath><clipPath class=\"axesclip\" id=\"clipa7f8a2y\"><rect x=\"0\" y=\"60\" width=\"700\" height=\"310\"/></clipPath><clipPath class=\"axesclip\" id=\"clipa7f8a2xy\"><rect x=\"80\" y=\"60\" width=\"477\" height=\"310\"/></clipPath></g><g class=\"gradients\"><linearGradient x1=\"0\" x2=\"0\" y1=\"1\" y2=\"0\" id=\"ga7f8a2-cbcoloraxis\"><stop offset=\"0%\" stop-color=\"rgb(13, 8, 135)\" stop-opacity=\"1\"/><stop offset=\"11.11111111111111%\" stop-color=\"rgb(70, 3, 159)\" stop-opacity=\"1\"/><stop offset=\"22.22222222222222%\" stop-color=\"rgb(114, 1, 168)\" stop-opacity=\"1\"/><stop offset=\"33.33333333333333%\" stop-color=\"rgb(156, 23, 158)\" stop-opacity=\"1\"/><stop offset=\"44.44444444444444%\" stop-color=\"rgb(189, 55, 134)\" stop-opacity=\"1\"/><stop offset=\"55.55555555555556%\" stop-color=\"rgb(216, 87, 107)\" stop-opacity=\"1\"/><stop offset=\"66.66666666666666%\" stop-color=\"rgb(237, 121, 83)\" stop-opacity=\"1\"/><stop offset=\"77.77777777777779%\" stop-color=\"rgb(251, 159, 58)\" stop-opacity=\"1\"/><stop offset=\"88.88888888888889%\" stop-color=\"rgb(253, 202, 38)\" stop-opacity=\"1\"/><stop offset=\"100%\" stop-color=\"rgb(240, 249, 33)\" stop-opacity=\"1\"/></linearGradient></g></defs><g class=\"bglayer\"><rect class=\"bg\" x=\"80\" y=\"60\" width=\"477\" height=\"310\" style=\"fill: rgb(229, 236, 246); fill-opacity: 1; stroke-width: 0;\"/></g><g class=\"layer-below\"><g class=\"imagelayer\"/><g class=\"shapelayer\"/></g><g class=\"cartesianlayer\"><g class=\"subplot xy\"><g class=\"layer-subplot\"><g class=\"shapelayer\"/><g class=\"imagelayer\"/></g><g class=\"gridlayer\"><g class=\"x\"/><g class=\"y\"><path class=\"ygrid crisp\" transform=\"translate(0,320.92)\" d=\"M80,0h477\" style=\"stroke: rgb(255, 255, 255); stroke-opacity: 1; stroke-width: 1px;\"/><path class=\"ygrid crisp\" transform=\"translate(0,271.83000000000004)\" d=\"M80,0h477\" style=\"stroke: rgb(255, 255, 255); stroke-opacity: 1; stroke-width: 1px;\"/><path class=\"ygrid crisp\" transform=\"translate(0,222.75)\" d=\"M80,0h477\" style=\"stroke: rgb(255, 255, 255); stroke-opacity: 1; stroke-width: 1px;\"/><path class=\"ygrid crisp\" transform=\"translate(0,173.67000000000002)\" d=\"M80,0h477\" style=\"stroke: rgb(255, 255, 255); stroke-opacity: 1; stroke-width: 1px;\"/><path class=\"ygrid crisp\" transform=\"translate(0,124.58)\" d=\"M80,0h477\" style=\"stroke: rgb(255, 255, 255); stroke-opacity: 1; stroke-width: 1px;\"/><path class=\"ygrid crisp\" transform=\"translate(0,75.5)\" d=\"M80,0h477\" style=\"stroke: rgb(255, 255, 255); stroke-opacity: 1; stroke-width: 1px;\"/></g></g><g class=\"zerolinelayer\"><path class=\"yzl zl crisp\" transform=\"translate(0,370)\" d=\"M80,0h477\" style=\"stroke: rgb(255, 255, 255); stroke-opacity: 1; stroke-width: 2px;\"/></g><path class=\"xlines-below\"/><path class=\"ylines-below\"/><g class=\"overlines-below\"/><g class=\"xaxislayer-below\"/><g class=\"yaxislayer-below\"/><g class=\"overaxes-below\"/><g class=\"plot\" transform=\"translate(80, 60)\" clip-path=\"url('#clipa7f8a2xyplot')\"><g class=\"barlayer mlayer\"><g class=\"trace bars\" style=\"opacity: 1;\"><g class=\"points\"><g class=\"point\"><path d=\"M0.39,310V15.5H3.55V310Z\" style=\"vector-effect: non-scaling-stroke; opacity: 1; stroke-width: 0.5px; fill: rgb(240, 249, 33); fill-opacity: 1; stroke: rgb(229, 236, 246); stroke-opacity: 1;\"/></g><g class=\"point\"><path d=\"M4.34,310V15.5H7.49V310Z\" style=\"vector-effect: non-scaling-stroke; opacity: 1; stroke-width: 0.5px; fill: rgb(240, 249, 33); fill-opacity: 1; stroke: rgb(229, 236, 246); stroke-opacity: 1;\"/></g><g class=\"point\"><path d=\"M8.28,310V15.5H11.43V310Z\" style=\"vector-effect: non-scaling-stroke; opacity: 1; stroke-width: 0.5px; fill: rgb(240, 249, 33); fill-opacity: 1; stroke: rgb(229, 236, 246); stroke-opacity: 1;\"/></g><g class=\"point\"><path d=\"M12.22,310V15.5H15.37V310Z\" style=\"vector-effect: non-scaling-stroke; opacity: 1; stroke-width: 0.5px; fill: rgb(240, 249, 33); fill-opacity: 1; stroke: rgb(229, 236, 246); stroke-opacity: 1;\"/></g><g class=\"point\"><path d=\"M16.16,310V15.5H19.32V310Z\" style=\"vector-effect: non-scaling-stroke; opacity: 1; stroke-width: 0.5px; fill: rgb(240, 249, 33); fill-opacity: 1; stroke: rgb(229, 236, 246); stroke-opacity: 1;\"/></g><g class=\"point\"><path d=\"M20.1,310V15.5H23.26V310Z\" style=\"vector-effect: non-scaling-stroke; opacity: 1; stroke-width: 0.5px; fill: rgb(240, 249, 33); fill-opacity: 1; stroke: rgb(229, 236, 246); stroke-opacity: 1;\"/></g><g class=\"point\"><path d=\"M24.05,310V15.5H27.2V310Z\" style=\"vector-effect: non-scaling-stroke; opacity: 1; stroke-width: 0.5px; fill: rgb(240, 249, 33); fill-opacity: 1; stroke: rgb(229, 236, 246); stroke-opacity: 1;\"/></g><g class=\"point\"><path d=\"M27.99,310V15.5H31.14V310Z\" style=\"vector-effect: non-scaling-stroke; opacity: 1; stroke-width: 0.5px; fill: rgb(240, 249, 33); fill-opacity: 1; stroke: rgb(229, 236, 246); stroke-opacity: 1;\"/></g><g class=\"point\"><path d=\"M31.93,310V15.5H35.09V310Z\" style=\"vector-effect: non-scaling-stroke; opacity: 1; stroke-width: 0.5px; fill: rgb(240, 249, 33); fill-opacity: 1; stroke: rgb(229, 236, 246); stroke-opacity: 1;\"/></g><g class=\"point\"><path d=\"M35.87,310V15.5H39.03V310Z\" style=\"vector-effect: non-scaling-stroke; opacity: 1; stroke-width: 0.5px; fill: rgb(240, 249, 33); fill-opacity: 1; stroke: rgb(229, 236, 246); stroke-opacity: 1;\"/></g><g class=\"point\"><path d=\"M39.82,310V15.5H42.97V310Z\" style=\"vector-effect: non-scaling-stroke; opacity: 1; stroke-width: 0.5px; fill: rgb(240, 249, 33); fill-opacity: 1; stroke: rgb(229, 236, 246); stroke-opacity: 1;\"/></g><g class=\"point\"><path d=\"M43.76,310V15.5H46.91V310Z\" style=\"vector-effect: non-scaling-stroke; opacity: 1; stroke-width: 0.5px; fill: rgb(240, 249, 33); fill-opacity: 1; stroke: rgb(229, 236, 246); stroke-opacity: 1;\"/></g><g class=\"point\"><path d=\"M47.7,310V15.5H50.85V310Z\" style=\"vector-effect: non-scaling-stroke; opacity: 1; stroke-width: 0.5px; fill: rgb(240, 249, 33); fill-opacity: 1; stroke: rgb(229, 236, 246); stroke-opacity: 1;\"/></g><g class=\"point\"><path d=\"M51.64,310V15.5H54.8V310Z\" style=\"vector-effect: non-scaling-stroke; opacity: 1; stroke-width: 0.5px; fill: rgb(240, 249, 33); fill-opacity: 1; stroke: rgb(229, 236, 246); stroke-opacity: 1;\"/></g><g class=\"point\"><path d=\"M55.58,310V15.5H58.74V310Z\" style=\"vector-effect: non-scaling-stroke; opacity: 1; stroke-width: 0.5px; fill: rgb(240, 249, 33); fill-opacity: 1; stroke: rgb(229, 236, 246); stroke-opacity: 1;\"/></g><g class=\"point\"><path d=\"M59.53,310V15.5H62.68V310Z\" style=\"vector-effect: non-scaling-stroke; opacity: 1; stroke-width: 0.5px; fill: rgb(240, 249, 33); fill-opacity: 1; stroke: rgb(229, 236, 246); stroke-opacity: 1;\"/></g><g class=\"point\"><path d=\"M63.47,310V15.5H66.62V310Z\" style=\"vector-effect: non-scaling-stroke; opacity: 1; stroke-width: 0.5px; fill: rgb(240, 249, 33); fill-opacity: 1; stroke: rgb(229, 236, 246); stroke-opacity: 1;\"/></g><g class=\"point\"><path d=\"M67.41,310V15.5H70.56V310Z\" style=\"vector-effect: non-scaling-stroke; opacity: 1; stroke-width: 0.5px; fill: rgb(240, 249, 33); fill-opacity: 1; stroke: rgb(229, 236, 246); stroke-opacity: 1;\"/></g><g class=\"point\"><path d=\"M71.35,310V15.5H74.51V310Z\" style=\"vector-effect: non-scaling-stroke; opacity: 1; stroke-width: 0.5px; fill: rgb(240, 249, 33); fill-opacity: 1; stroke: rgb(229, 236, 246); stroke-opacity: 1;\"/></g><g class=\"point\"><path d=\"M75.3,310V15.5H78.45V310Z\" style=\"vector-effect: non-scaling-stroke; opacity: 1; stroke-width: 0.5px; fill: rgb(240, 249, 33); fill-opacity: 1; stroke: rgb(229, 236, 246); stroke-opacity: 1;\"/></g><g class=\"point\"><path d=\"M79.24,310V15.5H82.39V310Z\" style=\"vector-effect: non-scaling-stroke; opacity: 1; stroke-width: 0.5px; fill: rgb(240, 249, 33); fill-opacity: 1; stroke: rgb(229, 236, 246); stroke-opacity: 1;\"/></g><g class=\"point\"><path d=\"M83.18,310V15.5H86.33V310Z\" style=\"vector-effect: non-scaling-stroke; opacity: 1; stroke-width: 0.5px; fill: rgb(240, 249, 33); fill-opacity: 1; stroke: rgb(229, 236, 246); stroke-opacity: 1;\"/></g><g class=\"point\"><path d=\"M87.12,310V15.5H90.28V310Z\" style=\"vector-effect: non-scaling-stroke; opacity: 1; stroke-width: 0.5px; fill: rgb(240, 249, 33); fill-opacity: 1; stroke: rgb(229, 236, 246); stroke-opacity: 1;\"/></g><g class=\"point\"><path d=\"M91.06,310V15.5H94.22V310Z\" style=\"vector-effect: non-scaling-stroke; opacity: 1; stroke-width: 0.5px; fill: rgb(240, 249, 33); fill-opacity: 1; stroke: rgb(229, 236, 246); stroke-opacity: 1;\"/></g><g class=\"point\"><path d=\"M95.01,310V15.5H98.16V310Z\" style=\"vector-effect: non-scaling-stroke; opacity: 1; stroke-width: 0.5px; fill: rgb(240, 249, 33); fill-opacity: 1; stroke: rgb(229, 236, 246); stroke-opacity: 1;\"/></g><g class=\"point\"><path d=\"M98.95,310V15.5H102.1V310Z\" style=\"vector-effect: non-scaling-stroke; opacity: 1; stroke-width: 0.5px; fill: rgb(240, 249, 33); fill-opacity: 1; stroke: rgb(229, 236, 246); stroke-opacity: 1;\"/></g><g class=\"point\"><path d=\"M102.89,310V15.5H106.04V310Z\" style=\"vector-effect: non-scaling-stroke; opacity: 1; stroke-width: 0.5px; fill: rgb(240, 249, 33); fill-opacity: 1; stroke: rgb(229, 236, 246); stroke-opacity: 1;\"/></g><g class=\"point\"><path d=\"M106.83,310V15.5H109.99V310Z\" style=\"vector-effect: non-scaling-stroke; opacity: 1; stroke-width: 0.5px; fill: rgb(240, 249, 33); fill-opacity: 1; stroke: rgb(229, 236, 246); stroke-opacity: 1;\"/></g><g class=\"point\"><path d=\"M110.77,310V15.5H113.93V310Z\" style=\"vector-effect: non-scaling-stroke; opacity: 1; stroke-width: 0.5px; fill: rgb(240, 249, 33); fill-opacity: 1; stroke: rgb(229, 236, 246); stroke-opacity: 1;\"/></g><g class=\"point\"><path d=\"M114.72,310V15.5H117.87V310Z\" style=\"vector-effect: non-scaling-stroke; opacity: 1; stroke-width: 0.5px; fill: rgb(240, 249, 33); fill-opacity: 1; stroke: rgb(229, 236, 246); stroke-opacity: 1;\"/></g><g class=\"point\"><path d=\"M118.66,310V15.5H121.81V310Z\" style=\"vector-effect: non-scaling-stroke; opacity: 1; stroke-width: 0.5px; fill: rgb(240, 249, 33); fill-opacity: 1; stroke: rgb(229, 236, 246); stroke-opacity: 1;\"/></g><g class=\"point\"><path d=\"M122.6,310V15.5H125.75V310Z\" style=\"vector-effect: non-scaling-stroke; opacity: 1; stroke-width: 0.5px; fill: rgb(240, 249, 33); fill-opacity: 1; stroke: rgb(229, 236, 246); stroke-opacity: 1;\"/></g><g class=\"point\"><path d=\"M126.54,310V15.5H129.7V310Z\" style=\"vector-effect: non-scaling-stroke; opacity: 1; stroke-width: 0.5px; fill: rgb(240, 249, 33); fill-opacity: 1; stroke: rgb(229, 236, 246); stroke-opacity: 1;\"/></g><g class=\"point\"><path d=\"M130.49,310V15.5H133.64V310Z\" style=\"vector-effect: non-scaling-stroke; opacity: 1; stroke-width: 0.5px; fill: rgb(240, 249, 33); fill-opacity: 1; stroke: rgb(229, 236, 246); stroke-opacity: 1;\"/></g><g class=\"point\"><path d=\"M134.43,310V15.5H137.58V310Z\" style=\"vector-effect: non-scaling-stroke; opacity: 1; stroke-width: 0.5px; fill: rgb(240, 249, 33); fill-opacity: 1; stroke: rgb(229, 236, 246); stroke-opacity: 1;\"/></g><g class=\"point\"><path d=\"M138.37,310V15.5H141.52V310Z\" style=\"vector-effect: non-scaling-stroke; opacity: 1; stroke-width: 0.5px; fill: rgb(240, 249, 33); fill-opacity: 1; stroke: rgb(229, 236, 246); stroke-opacity: 1;\"/></g><g class=\"point\"><path d=\"M142.31,310V15.5H145.47V310Z\" style=\"vector-effect: non-scaling-stroke; opacity: 1; stroke-width: 0.5px; fill: rgb(240, 249, 33); fill-opacity: 1; stroke: rgb(229, 236, 246); stroke-opacity: 1;\"/></g><g class=\"point\"><path d=\"M146.25,310V15.5H149.41V310Z\" style=\"vector-effect: non-scaling-stroke; opacity: 1; stroke-width: 0.5px; fill: rgb(240, 249, 33); fill-opacity: 1; stroke: rgb(229, 236, 246); stroke-opacity: 1;\"/></g><g class=\"point\"><path d=\"M150.2,310V15.5H153.35V310Z\" style=\"vector-effect: non-scaling-stroke; opacity: 1; stroke-width: 0.5px; fill: rgb(240, 249, 33); fill-opacity: 1; stroke: rgb(229, 236, 246); stroke-opacity: 1;\"/></g><g class=\"point\"><path d=\"M154.14,310V162.75H157.29V310Z\" style=\"vector-effect: non-scaling-stroke; opacity: 1; stroke-width: 0.5px; fill: rgb(191, 58, 132); fill-opacity: 1; stroke: rgb(229, 236, 246); stroke-opacity: 1;\"/></g><g class=\"point\"><path d=\"M158.08,310V64.58H161.23V310Z\" style=\"vector-effect: non-scaling-stroke; opacity: 1; stroke-width: 0.5px; fill: rgb(252, 175, 51); fill-opacity: 1; stroke: rgb(229, 236, 246); stroke-opacity: 1;\"/></g><g class=\"point\"><path d=\"M162.02,310V113.67H165.18V310Z\" style=\"vector-effect: non-scaling-stroke; opacity: 1; stroke-width: 0.5px; fill: rgb(231, 112, 90); fill-opacity: 1; stroke: rgb(229, 236, 246); stroke-opacity: 1;\"/></g><g class=\"point\"><path d=\"M165.96,310V113.67H169.12V310Z\" style=\"vector-effect: non-scaling-stroke; opacity: 1; stroke-width: 0.5px; fill: rgb(231, 112, 90); fill-opacity: 1; stroke: rgb(229, 236, 246); stroke-opacity: 1;\"/></g><g class=\"point\"><path d=\"M169.91,310V113.67H173.06V310Z\" style=\"vector-effect: non-scaling-stroke; opacity: 1; stroke-width: 0.5px; fill: rgb(231, 112, 90); fill-opacity: 1; stroke: rgb(229, 236, 246); stroke-opacity: 1;\"/></g><g class=\"point\"><path d=\"M173.85,310V113.67H177V310Z\" style=\"vector-effect: non-scaling-stroke; opacity: 1; stroke-width: 0.5px; fill: rgb(231, 112, 90); fill-opacity: 1; stroke: rgb(229, 236, 246); stroke-opacity: 1;\"/></g><g class=\"point\"><path d=\"M177.79,310V89.13H180.94V310Z\" style=\"vector-effect: non-scaling-stroke; opacity: 1; stroke-width: 0.5px; fill: rgb(245, 142, 69); fill-opacity: 1; stroke: rgb(229, 236, 246); stroke-opacity: 1;\"/></g><g class=\"point\"><path d=\"M181.73,310V211.83H184.89V310Z\" style=\"vector-effect: non-scaling-stroke; opacity: 1; stroke-width: 0.5px; fill: rgb(133, 11, 163); fill-opacity: 1; stroke: rgb(229, 236, 246); stroke-opacity: 1;\"/></g><g class=\"point\"><path d=\"M185.68,310V236.38H188.83V310Z\" style=\"vector-effect: non-scaling-stroke; opacity: 1; stroke-width: 0.5px; fill: rgb(98, 2, 165); fill-opacity: 1; stroke: rgb(229, 236, 246); stroke-opacity: 1;\"/></g><g class=\"point\"><path d=\"M189.62,310V187.29H192.77V310Z\" style=\"vector-effect: non-scaling-stroke; opacity: 1; stroke-width: 0.5px; fill: rgb(165, 32, 151); fill-opacity: 1; stroke: rgb(229, 236, 246); stroke-opacity: 1;\"/></g><g class=\"point\"><path d=\"M193.56,310V236.38H196.71V310Z\" style=\"vector-effect: non-scaling-stroke; opacity: 1; stroke-width: 0.5px; fill: rgb(98, 2, 165); fill-opacity: 1; stroke: rgb(229, 236, 246); stroke-opacity: 1;\"/></g><g class=\"point\"><path d=\"M197.5,310V260.92H200.66V310Z\" style=\"vector-effect: non-scaling-stroke; opacity: 1; stroke-width: 0.5px; fill: rgb(60, 4, 155); fill-opacity: 1; stroke: rgb(229, 236, 246); stroke-opacity: 1;\"/></g><g class=\"point\"><path d=\"M201.44,310V260.92H204.6V310Z\" style=\"vector-effect: non-scaling-stroke; opacity: 1; stroke-width: 0.5px; fill: rgb(60, 4, 155); fill-opacity: 1; stroke: rgb(229, 236, 246); stroke-opacity: 1;\"/></g><g class=\"point\"><path d=\"M205.39,310V236.38H208.54V310Z\" style=\"vector-effect: non-scaling-stroke; opacity: 1; stroke-width: 0.5px; fill: rgb(98, 2, 165); fill-opacity: 1; stroke: rgb(229, 236, 246); stroke-opacity: 1;\"/></g><g class=\"point\"><path d=\"M209.33,310V285.46H212.48V310Z\" style=\"vector-effect: non-scaling-stroke; opacity: 1; stroke-width: 0.5px; fill: rgb(13, 8, 135); fill-opacity: 1; stroke: rgb(229, 236, 246); stroke-opacity: 1;\"/></g><g class=\"point\"><path d=\"M213.27,310V285.46H216.42V310Z\" style=\"vector-effect: non-scaling-stroke; opacity: 1; stroke-width: 0.5px; fill: rgb(13, 8, 135); fill-opacity: 1; stroke: rgb(229, 236, 246); stroke-opacity: 1;\"/></g><g class=\"point\"><path d=\"M221.15,310V285.46H224.31V310Z\" style=\"vector-effect: non-scaling-stroke; opacity: 1; stroke-width: 0.5px; fill: rgb(13, 8, 135); fill-opacity: 1; stroke: rgb(229, 236, 246); stroke-opacity: 1;\"/></g><g class=\"point\"><path d=\"M229.04,310V285.46H232.19V310Z\" style=\"vector-effect: non-scaling-stroke; opacity: 1; stroke-width: 0.5px; fill: rgb(13, 8, 135); fill-opacity: 1; stroke: rgb(229, 236, 246); stroke-opacity: 1;\"/></g><g class=\"point\"><path d=\"M473.45,310V113.67H476.61V310Z\" style=\"vector-effect: non-scaling-stroke; opacity: 1; stroke-width: 0.5px; fill: rgb(231, 112, 90); fill-opacity: 1; stroke: rgb(229, 236, 246); stroke-opacity: 1;\"/></g></g></g></g></g><g class=\"overplot\"/><path class=\"xlines-above crisp\" style=\"fill: none;\" d=\"M0,0\"/><path class=\"ylines-above crisp\" style=\"fill: none;\" d=\"M0,0\"/><g class=\"overlines-above\"/><g class=\"xaxislayer-above\"><g class=\"xtick\"><text text-anchor=\"middle\" x=\"0\" y=\"383\" transform=\"translate(81.97,0)\" style=\"font-family: 'Open Sans', verdana, arial, sans-serif; font-size: 12px; fill: rgb(42, 63, 95); fill-opacity: 1; white-space: pre;\">1900</text></g><g class=\"xtick\"><text text-anchor=\"middle\" x=\"0\" y=\"383\" transform=\"translate(160.81,0)\" style=\"font-family: 'Open Sans', verdana, arial, sans-serif; font-size: 12px; fill: rgb(42, 63, 95); fill-opacity: 1; white-space: pre;\">1920</text></g><g class=\"xtick\"><text text-anchor=\"middle\" x=\"0\" y=\"383\" transform=\"translate(239.66,0)\" style=\"font-family: 'Open Sans', verdana, arial, sans-serif; font-size: 12px; fill: rgb(42, 63, 95); fill-opacity: 1; white-space: pre;\">1940</text></g><g class=\"xtick\"><text text-anchor=\"middle\" x=\"0\" y=\"383\" transform=\"translate(318.5,0)\" style=\"font-family: 'Open Sans', verdana, arial, sans-serif; font-size: 12px; fill: rgb(42, 63, 95); fill-opacity: 1; white-space: pre;\">1960</text></g><g class=\"xtick\"><text text-anchor=\"middle\" x=\"0\" y=\"383\" transform=\"translate(397.34,0)\" style=\"font-family: 'Open Sans', verdana, arial, sans-serif; font-size: 12px; fill: rgb(42, 63, 95); fill-opacity: 1; white-space: pre;\">1980</text></g><g class=\"xtick\"><text text-anchor=\"middle\" x=\"0\" y=\"383\" transform=\"translate(476.19,0)\" style=\"font-family: 'Open Sans', verdana, arial, sans-serif; font-size: 12px; fill: rgb(42, 63, 95); fill-opacity: 1; white-space: pre;\">2000</text></g><g class=\"xtick\"><text text-anchor=\"middle\" x=\"0\" y=\"383\" transform=\"translate(555.03,0)\" style=\"font-family: 'Open Sans', verdana, arial, sans-serif; font-size: 12px; fill: rgb(42, 63, 95); fill-opacity: 1; white-space: pre;\">2020</text></g></g><g class=\"yaxislayer-above\"><g class=\"ytick\"><text text-anchor=\"end\" x=\"79\" y=\"4.199999999999999\" transform=\"translate(0,370)\" style=\"font-family: 'Open Sans', verdana, arial, sans-serif; font-size: 12px; fill: rgb(42, 63, 95); fill-opacity: 1; white-space: pre;\">0</text></g><g class=\"ytick\"><text text-anchor=\"end\" x=\"79\" y=\"4.199999999999999\" transform=\"translate(0,320.92)\" style=\"font-family: 'Open Sans', verdana, arial, sans-serif; font-size: 12px; fill: rgb(42, 63, 95); fill-opacity: 1; white-space: pre;\">2</text></g><g class=\"ytick\"><text text-anchor=\"end\" x=\"79\" y=\"4.199999999999999\" transform=\"translate(0,271.83000000000004)\" style=\"font-family: 'Open Sans', verdana, arial, sans-serif; font-size: 12px; fill: rgb(42, 63, 95); fill-opacity: 1; white-space: pre;\">4</text></g><g class=\"ytick\"><text text-anchor=\"end\" x=\"79\" y=\"4.199999999999999\" transform=\"translate(0,222.75)\" style=\"font-family: 'Open Sans', verdana, arial, sans-serif; font-size: 12px; fill: rgb(42, 63, 95); fill-opacity: 1; white-space: pre;\">6</text></g><g class=\"ytick\"><text text-anchor=\"end\" x=\"79\" y=\"4.199999999999999\" transform=\"translate(0,173.67000000000002)\" style=\"font-family: 'Open Sans', verdana, arial, sans-serif; font-size: 12px; fill: rgb(42, 63, 95); fill-opacity: 1; white-space: pre;\">8</text></g><g class=\"ytick\"><text text-anchor=\"end\" x=\"79\" y=\"4.199999999999999\" transform=\"translate(0,124.58)\" style=\"font-family: 'Open Sans', verdana, arial, sans-serif; font-size: 12px; fill: rgb(42, 63, 95); fill-opacity: 1; white-space: pre;\">10</text></g><g class=\"ytick\"><text text-anchor=\"end\" x=\"79\" y=\"4.199999999999999\" transform=\"translate(0,75.5)\" style=\"font-family: 'Open Sans', verdana, arial, sans-serif; font-size: 12px; fill: rgb(42, 63, 95); fill-opacity: 1; white-space: pre;\">12</text></g></g><g class=\"overaxes-above\"/></g></g><g class=\"polarlayer\"/><g class=\"ternarylayer\"/><g class=\"geolayer\"/><g class=\"funnelarealayer\"/><g class=\"pielayer\"/><g class=\"treemaplayer\"/><g class=\"sunburstlayer\"/><g class=\"glimages\"/><defs id=\"topdefs-a7f8a2\"><g class=\"clips\"/></defs><g class=\"layer-above\"><g class=\"imagelayer\"/><g class=\"shapelayer\"/></g><g class=\"infolayer\"><g class=\"cbcoloraxis colorbar\" transform=\"translate(80,60)\"><rect class=\"cbbg\" x=\"487\" y=\"0\" width=\"121.21875\" height=\"310\" style=\"fill: rgb(0, 0, 0); fill-opacity: 0; stroke: rgb(68, 68, 68); stroke-opacity: 1; stroke-width: 0;\"/><g class=\"cbfills\" transform=\"translate(0,30)\"><rect class=\"cbfill\" x=\"497\" width=\"30\" y=\"0\" height=\"270\" style=\"stroke: none; fill: url('#ga7f8a2-cbcoloraxis');\"/></g><g class=\"cblines\" transform=\"translate(0,30)\"/><g class=\"cbaxis crisp\" transform=\"translate(0,-60)\"><g class=\"ycbcoloraxistick\"><text text-anchor=\"start\" x=\"529.9\" y=\"4.199999999999999\" transform=\"translate(0,335.421875)\" style=\"font-family: 'Open Sans', verdana, arial, sans-serif; font-size: 12px; fill: rgb(42, 63, 95); fill-opacity: 1; white-space: pre;\">2</text></g><g class=\"ycbcoloraxistick\"><text text-anchor=\"start\" x=\"529.9\" y=\"4.199999999999999\" transform=\"translate(0,286.271875)\" style=\"font-family: 'Open Sans', verdana, arial, sans-serif; font-size: 12px; fill: rgb(42, 63, 95); fill-opacity: 1; white-space: pre;\">4</text></g><g class=\"ycbcoloraxistick\"><text text-anchor=\"start\" x=\"529.9\" y=\"4.199999999999999\" transform=\"translate(0,237.121875)\" style=\"font-family: 'Open Sans', verdana, arial, sans-serif; font-size: 12px; fill: rgb(42, 63, 95); fill-opacity: 1; white-space: pre;\">6</text></g><g class=\"ycbcoloraxistick\"><text text-anchor=\"start\" x=\"529.9\" y=\"4.199999999999999\" transform=\"translate(0,187.971875)\" style=\"font-family: 'Open Sans', verdana, arial, sans-serif; font-size: 12px; fill: rgb(42, 63, 95); fill-opacity: 1; white-space: pre;\">8</text></g><g class=\"ycbcoloraxistick\"><text text-anchor=\"start\" x=\"529.9\" y=\"4.199999999999999\" transform=\"translate(0,138.821875)\" style=\"font-family: 'Open Sans', verdana, arial, sans-serif; font-size: 12px; fill: rgb(42, 63, 95); fill-opacity: 1; white-space: pre;\">10</text></g><g class=\"ycbcoloraxistick\"><text text-anchor=\"start\" x=\"529.9\" y=\"4.199999999999999\" transform=\"translate(0,89.671875)\" style=\"font-family: 'Open Sans', verdana, arial, sans-serif; font-size: 12px; fill: rgb(42, 63, 95); fill-opacity: 1; white-space: pre;\">12</text></g></g><g class=\"cbtitleunshift\" transform=\"translate(-80,-60)\"><g class=\"cbtitle\" transform=\"translate(0,0)\"><text class=\"ycbcoloraxistitle\" x=\"576.54\" y=\"81.99999999999999\" text-anchor=\"start\" style=\"font-family: 'Open Sans', verdana, arial, sans-serif; font-size: 12px; fill: rgb(42, 63, 95); opacity: 1; font-weight: normal; white-space: pre;\">Months Available</text></g></g><rect class=\"cboutline\" x=\"497\" y=\"29.671875\" width=\"30\" height=\"270.328125\" style=\"stroke: rgb(68, 68, 68); stroke-opacity: 1; fill: none; stroke-width: 0;\"/></g><g class=\"g-gtitle\"/><g class=\"g-xtitle\"><text class=\"xtitle\" x=\"318.5\" y=\"410.471875\" text-anchor=\"middle\" style=\"font-family: 'Open Sans', verdana, arial, sans-serif; font-size: 14px; fill: rgb(42, 63, 95); opacity: 1; font-weight: normal; white-space: pre;\">x</text></g><g class=\"g-ytitle\"><text class=\"ytitle\" transform=\"rotate(-90,38.934375,215)\" x=\"38.934375\" y=\"215\" text-anchor=\"middle\" style=\"font-family: 'Open Sans', verdana, arial, sans-serif; font-size: 14px; fill: rgb(42, 63, 95); opacity: 1; font-weight: normal; white-space: pre;\">Months Available</text></g></g></svg>"
      ]
     },
     "metadata": {},
     "output_type": "display_data"
    }
   ],
   "source": [
    "df = (pd.DataFrame(no_data, columns=['Year', 'Month']).groupby('Year').count())\n",
    "fig = px.bar(df, y='Month', x=df.index,\n",
    "             color='Month',\n",
    "             labels={'Month': 'Months Available'}, height=400, width=800)\n",
    "#go.FigureWidget(data=fig)\n",
    "fig.show(renderer='svg')"
   ]
  },
  {
   "cell_type": "markdown",
   "metadata": {},
   "source": [
    "> ## Let us create a dataframe with Years and Months as MultiIndex, this is very convenient for analysis based on time"
   ]
  },
  {
   "cell_type": "code",
   "execution_count": null,
   "metadata": {},
   "outputs": [],
   "source": [
    "drug_df = pd.concat({key: pd.concat({mnts: dat for mnts, dat in vals.items()},\n",
    "                                    names=['Months'])\n",
    "                     for key, vals in drug_data.items()}, names=['Year'])"
   ]
  },
  {
   "cell_type": "markdown",
   "metadata": {},
   "source": [
    "> ## Lets, look at how drug approval has evolved over the last 120 years,\n",
    "- We plot, the total number of drugs approved in every year (left) and in every month (right)\n",
    "- There is big surge in drug approval rate in the 80s, follwed by a big drop in 2003 and a constant raise afterwords and perhaps some slowing down in the recent years\n",
    "- Month-wise data reveals that the data is mostly constant over different months. However, one can argue that there are peaksi n April and August"
   ]
  },
  {
   "cell_type": "code",
   "execution_count": null,
   "metadata": {},
   "outputs": [],
   "source": [
    "%matplotlib widget\n",
    "fig = make_subplots(rows=1, cols=2)\n",
    "df = drug_df.groupby('Year').count()['Submission Status']\n",
    "fig.add_trace(go.Bar(y=df.iloc[-100:],\n",
    "                     x=df.index, name='Yearly', width=1),\n",
    "              row=1, col=1)\n",
    "\n",
    "df = drug_df.groupby('Months').count()['Submission Status']\n",
    "fig.add_trace(go.Bar(y=df[MONTHS],\n",
    "                     x=MONTHS, name='Monthly', width=1),\n",
    "              row=1, col=2)\n",
    "fig.update_layout(width=1000)\n",
    "go.FigureWidget(data=fig)"
   ]
  },
  {
   "cell_type": "markdown",
   "metadata": {},
   "source": [
    "># Let us try to focus on dominant players in the field\n",
    "+ We take a look at the distributions of number of drugs each company has under its sleeve\n",
    "+ Similarly, we take a look at how ingredients are distributed among different drugs\n",
    "\n",
    "+ As expected, a lot of companies manufacture very few drugs (similar for ingredients)\n",
    "+ However, there are a small number of companies that appear to the very right of the distribution, these are the BIG PLAYERS"
   ]
  },
  {
   "cell_type": "code",
   "execution_count": null,
   "metadata": {},
   "outputs": [],
   "source": [
    "drug_list = drug_df['Active Ingredients'].astype(str).values\n",
    "#ingredients_list = list(chain(*[drug.split(';') for drug in drug_list]))\n",
    "ingredients_list=list([j.strip() for j in list(chain(*[i.split(';') for i in drug_list]))])\n",
    "\n",
    "company_list = drug_df['Company'].astype(str).values\n",
    "\n",
    "company_counts = Counter(company_list)\n",
    "drug_counts = Counter(ingredients_list)"
   ]
  },
  {
   "cell_type": "code",
   "execution_count": null,
   "metadata": {},
   "outputs": [],
   "source": [
    "fig = make_subplots(rows=1, cols=2)\n",
    "fig.add_trace(go.Histogram(x=list(company_counts.values()), name='Companies'),\n",
    "              row=1, col=1)\n",
    "fig.add_trace(go.Histogram(x=list(drug_counts.values()), name='Drugs', ),\n",
    "              row=1, col=2)\n",
    "fig.update_yaxes(type=\"log\")\n",
    "go.FigureWidget(data=fig)"
   ]
  },
  {
   "cell_type": "markdown",
   "metadata": {},
   "source": [
    "># Top 20 Ingredients and Companies"
   ]
  },
  {
   "cell_type": "code",
   "execution_count": null,
   "metadata": {},
   "outputs": [],
   "source": [
    "top_companies = dict((company_counts.most_common(20)))\n",
    "top_drugs = dict((drug_counts.most_common(20)))"
   ]
  },
  {
   "cell_type": "code",
   "execution_count": null,
   "metadata": {},
   "outputs": [],
   "source": [
    "pd.DataFrame(list(zip(top_drugs, top_companies)), columns=['Ingredients', 'Company Name'])"
   ]
  },
  {
   "cell_type": "markdown",
   "metadata": {},
   "source": [
    "> ## Let us look at their market share"
   ]
  },
  {
   "cell_type": "code",
   "execution_count": null,
   "metadata": {},
   "outputs": [],
   "source": [
    "df1 = pd.DataFrame(list(zip(company_counts.keys(), company_counts.values())), columns=['Company', '# of Drugs'])\n",
    "df1.loc[~df1['Company'].isin(top_companies.keys()), 'Company'] = 'Others'\n",
    "fig = px.pie(df1, values='# of Drugs', names='Company', title='Market share of Top Companies')\n",
    "go.FigureWidget(data=fig)"
   ]
  },
  {
   "cell_type": "markdown",
   "metadata": {},
   "source": [
    "> ## And share of the top ingredients in all the approved drugs"
   ]
  },
  {
   "cell_type": "code",
   "execution_count": null,
   "metadata": {},
   "outputs": [],
   "source": [
    "df2 = pd.DataFrame(list(zip(drug_counts.keys(), drug_counts.values())), columns=['Compound', '# of Companies'])\n",
    "df2.loc[~df2['Compound'].isin(top_drugs.keys()), 'Compound'] = 'Others'\n",
    "fig=px.pie(df2, values='# of Companies', names='Compound', title='Company wide share of Top Ingredients')\n",
    "go.FigureWidget(data=fig)"
   ]
  },
  {
   "cell_type": "markdown",
   "metadata": {},
   "source": [
    "> ## Let us now see, how things have changed for different companies\n",
    "1. The interactive plot below shows the number of drugs approved for a given company over time\n",
    "2. One can choose two different companies for a comparison"
   ]
  },
  {
   "cell_type": "code",
   "execution_count": null,
   "metadata": {},
   "outputs": [],
   "source": [
    "#widgets with variation over time\n",
    "company1 = widgets.Dropdown(options=list(top_companies.keys()),\n",
    "    value='MERCK', description='Company #0:',)\n",
    "company2 = widgets.Dropdown(options=list(top_companies.keys()),\n",
    "    value='NOVARTIS', description='Company #1:',)\n",
    "\n",
    "\n",
    "# Assign an empty figure widget with two traces\n",
    "trace1 = go.Scatter(y=drug_df[drug_df['Company'] == 'MERCK'].groupby('Year')['Submission']\n",
    "                    .count(), x=drug_df[drug_df['Company'] == 'MERCK'].groupby('Year')['Submission']\n",
    "                    .count().index, opacity=0.75,mode='lines+markers')\n",
    "                    #marker_color='rgba(255.,150.,0.,0.8)', line_color='rgba(255., 150,0., 0.8)')\n",
    "\n",
    "trace2 = go.Scatter(y=drug_df[drug_df['Company'] == 'NOVARTIS'].groupby('Year')['Submission']\n",
    "                    .count(), x=drug_df[drug_df['Company'] == 'NOVARTIS'].groupby('Year')['Submission']\n",
    "                    .count().index, opacity=0.75,mode='lines+markers')\n",
    "                    #marker_color='rgba(150.,150.,255.,255)', line_color='rgba(255., 150,255., 255)')\n",
    "\n",
    "g = go.FigureWidget(data=[trace1, trace2], layout=go.Layout(\n",
    "                        title=dict(text='Evolution over the last century'),))\n",
    "g.update_layout(xaxis_title='Year', yaxis_title='Number of Drugs Approved')\n",
    "\n",
    "def response(change):\n",
    "    filtered1 = drug_df[drug_df['Company']==company1.value].groupby('Year')['Submission'].count()\n",
    "    filtered2 = drug_df[drug_df['Company']==company2.value].groupby('Year')['Submission'].count()\n",
    "    with g.batch_update():\n",
    "        g.data[0].y = filtered1\n",
    "        g.data[0].x = filtered1.index\n",
    "\n",
    "        g.data[1].y = filtered2\n",
    "        g.data[1].x = filtered2.index\n",
    "\n",
    "company1.observe(response, names=\"value\")\n",
    "company2.observe(response)\n",
    "#container2 = widgets.HBox([trace1, trace2])\n",
    "widgets.VBox([company1, company2, g])"
   ]
  },
  {
   "cell_type": "markdown",
   "metadata": {},
   "source": [
    "> ## Let us now see, how things have changed for different compounds\n",
    "1. The interactive plot below shows the number of drugs approved with a given ingredient\n",
    "2. One can choose two different compounds/ingredients for a comparison"
   ]
  },
  {
   "cell_type": "code",
   "execution_count": null,
   "metadata": {},
   "outputs": [],
   "source": [
    "#widgets with variation over time\n",
    "drug1 = widgets.Dropdown(options=list(top_drugs.keys()),\n",
    "    value='SODIUM CHLORIDE', description='Compd. #0:',)\n",
    "drug2 = widgets.Dropdown(options=list(top_drugs.keys()),\n",
    "    value='DEXTROSE', description='Compd. #1:',)\n",
    "\n",
    "\n",
    "# Assign an empty figure widget with two traces\n",
    "trace1 = go.Scatter(y=drug_df[drug_df['Active Ingredients'].str.contains('SODIUM CHLORIDE').fillna(False)].groupby('Year')['Approval Date'].count(), \n",
    "                    x=drug_df[drug_df['Active Ingredients'].str.contains('SODIUM CHLORIDE').fillna(False)].groupby('Year')['Approval Date'].count().index,\n",
    "                    opacity=0.75,mode='lines+markers')\n",
    "                    #marker_color='rgba(255.,150.,0.,0.8)', line_color='rgba(255., 150,0., 0.8)')\n",
    "\n",
    "trace2 = go.Scatter(y=drug_df[drug_df['Active Ingredients'].str.contains('DEXTROSE').fillna(False)].groupby('Year')['Approval Date'].count(), \n",
    "                    x=drug_df[drug_df['Active Ingredients'].str.contains('DEXTROSE').fillna(False)].groupby('Year')['Approval Date'].count().index, \n",
    "                    opacity=0.75,mode='lines+markers')\n",
    "                    #marker_color='rgba(150.,150.,255.,255)', line_color='rgba(255., 150,255., 255)')\n",
    "\n",
    "g1 = go.FigureWidget(data=[trace1, trace2], layout=go.Layout(\n",
    "                        title=dict(text='Evolution over the last century'),))\n",
    "g1.update_layout(xaxis_title='Year', yaxis_title='Found in # of Drugs')\n",
    "\n",
    "def response(change):\n",
    "    filtered1 = drug_df[drug_df['Drug Name'].str.contains(drug1.value).fillna(False)].groupby('Year')['Approval Date'].count()\n",
    "    filtered2 = drug_df[drug_df['Drug Name'].str.contains(drug2.value).fillna(False)].groupby('Year')['Approval Date'].count()\n",
    "    with g.batch_update():\n",
    "        g1.data[0].y = filtered1\n",
    "        g1.data[0].x = filtered1.index\n",
    "\n",
    "        g1.data[1].y = filtered2\n",
    "        g1.data[1].x = filtered2.index\n",
    "\n",
    "drug1.observe(response, names=\"value\")\n",
    "drug2.observe(response)\n",
    "#container2 = widgets.HBox([trace1, trace2])\n",
    "widgets.VBox([drug1, drug2, g1])"
   ]
  },
  {
   "cell_type": "markdown",
   "metadata": {},
   "source": [
    "># Let us look at bit more advanced stuff"
   ]
  },
  {
   "cell_type": "markdown",
   "metadata": {},
   "source": [
    "> ## Advanced\n",
    "+ I want to look at how the ingredient evolutions are correlated with each other  \n",
    "and   \n",
    "+ How can be cluster them based on this simple dataset?"
   ]
  },
  {
   "cell_type": "code",
   "execution_count": null,
   "metadata": {},
   "outputs": [],
   "source": [
    "# Correlation matrix of different companies and drugs\n",
    "drug_coeff=[]\n",
    "for drug in top_drugs:\n",
    "    drug_coeff.append(drug_df[drug_df['Active Ingredients'].str.contains(drug).fillna(False)]\n",
    "                      .groupby('Year')['Approval Date'].\n",
    "                      count().reindex(drug_df.index.levels[0]).replace(np.nan, 0.).values)"
   ]
  },
  {
   "cell_type": "code",
   "execution_count": null,
   "metadata": {},
   "outputs": [],
   "source": [
    "# we use the cluster map in seaborn to automatically do the clustering for us \n",
    "# we just have to input the correlation matrix\n",
    "clus = sns.clustermap(np.corrcoef(drug_coeff),figsize=(6,6) )\n",
    "lb=plt.setp(clus.ax_heatmap.get_yticklabels(), rotation=0)  \n",
    "lb=plt.setp(clus.ax_heatmap.get_xticklabels(), rotation=90)\n",
    "print(list(zip(np.arange(len(top_drugs.keys())), top_drugs.keys())))"
   ]
  },
  {
   "cell_type": "markdown",
   "metadata": {},
   "source": [
    ">## Clustering the drug companies\n",
    "1. To cluster among the drug companies, we look at the ingredients they have in common\n",
    "2. Drugs manufacturing the same drugs are close to each other in the ingredient space and vice-versa\n",
    "3. To define the 'distance', we define company vectors, just like word frequency vectors\n",
    "4. Then, we have each company represented by a vector in the space of ingredients\n",
    "5. We still, can't visually represent them, so we project them on to 2D plane using the popular t-SNE algorithm"
   ]
  },
  {
   "cell_type": "code",
   "execution_count": null,
   "metadata": {},
   "outputs": [],
   "source": [
    "vectorizer=CountVectorizer()\n",
    "\n",
    "top_companies = dict((company_counts.most_common(200)))\n",
    "company_df=drug_df[drug_df['Company'].isin(top_companies.keys())]\n",
    "\n",
    "word_vectors = vectorizer.fit_transform((company_df[['Company','Active Ingredients']].astype(str).groupby('Company').agg(' '.join))['Active Ingredients'].to_list())\n",
    "\n",
    "tsne=TSNE(perplexity=50)\n",
    "embedded1 = tsne.fit_transform(word_vectors)\n",
    "tsne=TSNE(perplexity=500)\n",
    "embedded2 = tsne.fit_transform(word_vectors)"
   ]
  },
  {
   "cell_type": "code",
   "execution_count": null,
   "metadata": {},
   "outputs": [],
   "source": [
    "#%matplotlib inline\n",
    "#plt.plot(embedded[:, 0], embedded[:, 1],'go', alpha = 0.8)\n",
    "#plt.show()\n",
    "fig = make_subplots(rows=1, cols=2,x_title='TSNE_1',y_title='TSNE_2')\n",
    "fig.add_trace(go.Scatter(x=embedded1[:,0],y=embedded1[:,1], name='Low Perplexity', mode='markers', \n",
    "                         text=list(top_companies.keys())),\n",
    "              row=1, col=1)\n",
    "fig.add_trace(go.Scatter(x=embedded2[:,0],y=embedded2[:,1], name='High Perplexity', mode='markers',\n",
    "              text=list(top_companies.keys())),\n",
    "              row=1, col=2)\n",
    "\n",
    "go.FigureWidget(data=fig)"
   ]
  },
  {
   "cell_type": "markdown",
   "metadata": {},
   "source": [
    "___\n",
    "* In the above plots, we can see the topology of the companies in the ingredient space\n",
    "* We do this at two different perplexities for a better understanding of the topology\n",
    "    + These two figures suggest that, the topology is perhaps a ring in higher dimensions, with some variance in the direction perpendicular to the plane of the ring\n",
    "* On hover, we can see which comanies are close to each other and which are not!\n",
    "* Finally, it is interesting to see that, all the companies lie on ring forming a closed loop   \n",
    "(with some outliers, Dr. Reddy's, Novartis and Heritage Pharma)\n",
    "----"
   ]
  },
  {
   "cell_type": "code",
   "execution_count": null,
   "metadata": {},
   "outputs": [],
   "source": [
    "# Conclusions"
   ]
  },
  {
   "cell_type": "code",
   "execution_count": null,
   "metadata": {},
   "outputs": [],
   "source": [
    "# Graphs?\n",
    "# New info? diseases? side-effects?\n",
    "# prices of drugs?\n",
    "\n",
    "# relationships?\n",
    "# companies with common drugs or the reverse --- can make clusters \n",
    "# companies that make a lot of drugs\n",
    "\n",
    "# comparitive study with a different drug database -- from different country"
   ]
  },
  {
   "cell_type": "code",
   "execution_count": null,
   "metadata": {},
   "outputs": [],
   "source": []
  }
 ],
 "metadata": {
  "hide_input": false,
  "kernelspec": {
   "display_name": "Python 3.6.5 64-bit ('Vikram': virtualenv)",
   "language": "python",
   "name": "python36564bitvikramvirtualenvfd15cae2283a4084b2b1cde496d16062"
  },
  "language_info": {
   "codemirror_mode": {
    "name": "ipython",
    "version": 3
   },
   "file_extension": ".py",
   "mimetype": "text/x-python",
   "name": "python",
   "nbconvert_exporter": "python",
   "pygments_lexer": "ipython3",
   "version": "3.7.6"
  },
  "toc": {
   "base_numbering": 1,
   "nav_menu": {},
   "number_sections": true,
   "sideBar": true,
   "skip_h1_title": false,
   "title_cell": "Table of Contents",
   "title_sidebar": "Contents",
   "toc_cell": false,
   "toc_position": {
    "height": "calc(100% - 180px)",
    "left": "10px",
    "top": "150px",
    "width": "349.091px"
   },
   "toc_section_display": true,
   "toc_window_display": true
  },
  "varInspector": {
   "cols": {
    "lenName": 16,
    "lenType": 16,
    "lenVar": 40
   },
   "kernels_config": {
    "python": {
     "delete_cmd_postfix": "",
     "delete_cmd_prefix": "del ",
     "library": "var_list.py",
     "varRefreshCmd": "print(var_dic_list())"
    },
    "r": {
     "delete_cmd_postfix": ") ",
     "delete_cmd_prefix": "rm(",
     "library": "var_list.r",
     "varRefreshCmd": "cat(var_dic_list()) "
    }
   },
   "types_to_exclude": [
    "module",
    "function",
    "builtin_function_or_method",
    "instance",
    "_Feature"
   ],
   "window_display": false
  }
 },
 "nbformat": 4,
 "nbformat_minor": 4
}
